{
 "cells": [
  {
   "cell_type": "markdown",
   "id": "29fa905e",
   "metadata": {
    "papermill": {
     "duration": 0.01521,
     "end_time": "2023-10-16T16:14:14.767556",
     "exception": false,
     "start_time": "2023-10-16T16:14:14.752346",
     "status": "completed"
    },
    "tags": []
   },
   "source": [
    "\n",
    "# Sobre o Conjunto de Dados\n",
    "\n",
    "### Visão geral do Conjunto de Dados:\n",
    "O Conjunto de Dados de Saúde e Estilo de Vida do Sono é composto por 400 linhas e 13 colunas, abrangendo uma ampla gama de variáveis relacionadas ao sono e hábitos diários. Ele inclui detalhes como gênero, idade, ocupação, duração do sono, qualidade do sono, nível de atividade física, níveis de estresse, categoria de IMC (Índice de Massa Corporal), pressão arterial, frequência cardíaca, passos diários e a presença ou ausência de distúrbios do sono.\n",
    "\n",
    "### Recursos principais do Conjunto de Dados:\n",
    "* Métricas abrangentes do sono: Explore a duração, qualidade e fatores que influenciam os padrões de sono.\n",
    "* Fatores de estilo de vida: Analise os níveis de atividade física, níveis de estresse e categorias de IMC.\n",
    "* Saúde cardiovascular: Examine as medições da pressão arterial e frequência cardíaca.\n",
    "* Análise de distúrbios do sono: Identifique a ocorrência de distúrbios do sono, como insônia e apneia do sono.\n",
    "\n",
    "### Colunas do Conjunto de Dados:\n",
    "* __ID da pessoa:__ Um identificador para cada indivíduo.\n",
    "* __Gênero:__ O gênero da pessoa (Masculino/Feminino).\n",
    "* __Idade:__ A idade da pessoa em anos.\n",
    "* __Ocupação:__ A ocupação ou profissão da pessoa.\n",
    "* __Duração do sono (horas):__ O número de horas que a pessoa dorme por dia.\n",
    "* __Qualidade do sono (escala: 1-10) :__ Uma avaliação subjetiva da qualidade do sono, variando de 1 a 10.\n",
    "* __Nível de atividade física (minutos/dia):__ O número de minutos que a pessoa se dedica à atividade física diariamente.\n",
    "* __Nível de estresse (escala: 1-10):__ Uma avaliação subjetiva do nível de estresse experimentado pela pessoa, variando de 1 a 10.\n",
    "* __Categoria de IMC:__ A categoria de IMC da pessoa (por exemplo, Abaixo do peso, Normal, Acima do peso).\n",
    "* __Pressão arterial (sistólica/diastólica):__ A medição da pressão arterial da pessoa, indicada como pressão sistólica sobre pressão diastólica.\n",
    "* __Frequência cardíaca (bpm):__ A frequência cardíaca em repouso da pessoa em batimentos por minuto.\n",
    "* __Passos diários:__ O número de passos que a pessoa dá por dia.\n",
    "* __Distúrbio do sono:__ A presença ou ausência de um distúrbio do sono na pessoa (Nenhum, Insônia, Apneia do sono).\n",
    "\n",
    "### Detalhes sobre a coluna Distúrbio do Sono:\n",
    "\n",
    "* __Nenhum:__ O indivíduo não apresenta nenhum distúrbio do sono específico.\n",
    "* __Insônia:__ O indivíduo tem dificuldade para dormir ou permanecer dormindo, resultando em sono / * * inadequado ou de má qualidade.\n",
    "* __Apneia do sono:__ O indivíduo sofre pausas na respiração durante o sono, resultando em padrões de sono interrompidos e riscos potenciais para a saúde."
   ]
  },
  {
   "cell_type": "markdown",
   "id": "cab93db6",
   "metadata": {
    "papermill": {
     "duration": 0.014271,
     "end_time": "2023-10-16T16:14:15.194894",
     "exception": false,
     "start_time": "2023-10-16T16:14:15.180623",
     "status": "completed"
    },
    "tags": []
   },
   "source": [
    "# Analise de dados"
   ]
  },
  {
   "cell_type": "code",
   "execution_count": 2,
   "id": "eef61144",
   "metadata": {
    "execution": {
     "iopub.execute_input": "2023-10-16T16:14:15.227692Z",
     "iopub.status.busy": "2023-10-16T16:14:15.226941Z",
     "iopub.status.idle": "2023-10-16T16:14:16.551910Z",
     "shell.execute_reply": "2023-10-16T16:14:16.550819Z"
    },
    "papermill": {
     "duration": 1.342684,
     "end_time": "2023-10-16T16:14:16.554319",
     "exception": false,
     "start_time": "2023-10-16T16:14:15.211635",
     "status": "completed"
    },
    "tags": []
   },
   "outputs": [],
   "source": [
    "import numpy   as np\n",
    "import warnings\n",
    "import pandas  as pd\n",
    "import seaborn as sea\n",
    "import matplotlib.pyplot as plt\n",
    "import matplotlib.patches as mpatches"
   ]
  },
  {
   "cell_type": "code",
   "execution_count": 3,
   "id": "4d62abe4",
   "metadata": {
    "execution": {
     "iopub.execute_input": "2023-10-16T16:14:16.584394Z",
     "iopub.status.busy": "2023-10-16T16:14:16.583626Z",
     "iopub.status.idle": "2023-10-16T16:14:16.588492Z",
     "shell.execute_reply": "2023-10-16T16:14:16.587436Z"
    },
    "papermill": {
     "duration": 0.022065,
     "end_time": "2023-10-16T16:14:16.590478",
     "exception": false,
     "start_time": "2023-10-16T16:14:16.568413",
     "status": "completed"
    },
    "tags": []
   },
   "outputs": [],
   "source": [
    "warnings.filterwarnings(action='ignore',category=pd.errors.SettingWithCopyWarning)\n",
    "warnings.filterwarnings(action='ignore',category=FutureWarning)"
   ]
  },
  {
   "cell_type": "code",
   "execution_count": 4,
   "id": "6ea8e0df",
   "metadata": {
    "execution": {
     "iopub.execute_input": "2023-10-16T16:14:16.620384Z",
     "iopub.status.busy": "2023-10-16T16:14:16.619229Z",
     "iopub.status.idle": "2023-10-16T16:14:16.637347Z",
     "shell.execute_reply": "2023-10-16T16:14:16.636477Z"
    },
    "papermill": {
     "duration": 0.035357,
     "end_time": "2023-10-16T16:14:16.639599",
     "exception": false,
     "start_time": "2023-10-16T16:14:16.604242",
     "status": "completed"
    },
    "tags": []
   },
   "outputs": [],
   "source": [
    "data = pd.read_csv(r'dataset/SleepHealthAndLifestyleDataset.csv',sep=',')"
   ]
  },
  {
   "cell_type": "code",
   "execution_count": 5,
   "id": "ecaeb52e",
   "metadata": {
    "execution": {
     "iopub.execute_input": "2023-10-16T16:14:16.669643Z",
     "iopub.status.busy": "2023-10-16T16:14:16.668575Z",
     "iopub.status.idle": "2023-10-16T16:14:16.691782Z",
     "shell.execute_reply": "2023-10-16T16:14:16.690856Z"
    },
    "papermill": {
     "duration": 0.040361,
     "end_time": "2023-10-16T16:14:16.693867",
     "exception": false,
     "start_time": "2023-10-16T16:14:16.653506",
     "status": "completed"
    },
    "tags": []
   },
   "outputs": [
    {
     "data": {
      "text/html": [
       "<div>\n",
       "<style scoped>\n",
       "    .dataframe tbody tr th:only-of-type {\n",
       "        vertical-align: middle;\n",
       "    }\n",
       "\n",
       "    .dataframe tbody tr th {\n",
       "        vertical-align: top;\n",
       "    }\n",
       "\n",
       "    .dataframe thead th {\n",
       "        text-align: right;\n",
       "    }\n",
       "</style>\n",
       "<table border=\"1\" class=\"dataframe\">\n",
       "  <thead>\n",
       "    <tr style=\"text-align: right;\">\n",
       "      <th></th>\n",
       "      <th>Person ID</th>\n",
       "      <th>Gender</th>\n",
       "      <th>Age</th>\n",
       "      <th>Occupation</th>\n",
       "      <th>Sleep Duration</th>\n",
       "      <th>Quality of Sleep</th>\n",
       "      <th>Physical Activity Level</th>\n",
       "      <th>Stress Level</th>\n",
       "      <th>BMI Category</th>\n",
       "      <th>Blood Pressure</th>\n",
       "      <th>Heart Rate</th>\n",
       "      <th>Daily Steps</th>\n",
       "      <th>Sleep Disorder</th>\n",
       "    </tr>\n",
       "  </thead>\n",
       "  <tbody>\n",
       "    <tr>\n",
       "      <th>0</th>\n",
       "      <td>1</td>\n",
       "      <td>Male</td>\n",
       "      <td>27</td>\n",
       "      <td>Software Engineer</td>\n",
       "      <td>6.1</td>\n",
       "      <td>6</td>\n",
       "      <td>42</td>\n",
       "      <td>6</td>\n",
       "      <td>Overweight</td>\n",
       "      <td>126/83</td>\n",
       "      <td>77</td>\n",
       "      <td>4200</td>\n",
       "      <td>NaN</td>\n",
       "    </tr>\n",
       "    <tr>\n",
       "      <th>1</th>\n",
       "      <td>2</td>\n",
       "      <td>Male</td>\n",
       "      <td>28</td>\n",
       "      <td>Doctor</td>\n",
       "      <td>6.2</td>\n",
       "      <td>6</td>\n",
       "      <td>60</td>\n",
       "      <td>8</td>\n",
       "      <td>Normal</td>\n",
       "      <td>125/80</td>\n",
       "      <td>75</td>\n",
       "      <td>10000</td>\n",
       "      <td>NaN</td>\n",
       "    </tr>\n",
       "    <tr>\n",
       "      <th>2</th>\n",
       "      <td>3</td>\n",
       "      <td>Male</td>\n",
       "      <td>28</td>\n",
       "      <td>Doctor</td>\n",
       "      <td>6.2</td>\n",
       "      <td>6</td>\n",
       "      <td>60</td>\n",
       "      <td>8</td>\n",
       "      <td>Normal</td>\n",
       "      <td>125/80</td>\n",
       "      <td>75</td>\n",
       "      <td>10000</td>\n",
       "      <td>NaN</td>\n",
       "    </tr>\n",
       "  </tbody>\n",
       "</table>\n",
       "</div>"
      ],
      "text/plain": [
       "   Person ID Gender  Age         Occupation  Sleep Duration  Quality of Sleep  \\\n",
       "0          1   Male   27  Software Engineer             6.1                 6   \n",
       "1          2   Male   28             Doctor             6.2                 6   \n",
       "2          3   Male   28             Doctor             6.2                 6   \n",
       "\n",
       "   Physical Activity Level  Stress Level BMI Category Blood Pressure  \\\n",
       "0                       42             6   Overweight         126/83   \n",
       "1                       60             8       Normal         125/80   \n",
       "2                       60             8       Normal         125/80   \n",
       "\n",
       "   Heart Rate  Daily Steps Sleep Disorder  \n",
       "0          77         4200            NaN  \n",
       "1          75        10000            NaN  \n",
       "2          75        10000            NaN  "
      ]
     },
     "execution_count": 5,
     "metadata": {},
     "output_type": "execute_result"
    }
   ],
   "source": [
    "data.head(3)"
   ]
  },
  {
   "cell_type": "markdown",
   "id": "aed57cfa",
   "metadata": {
    "papermill": {
     "duration": 0.013827,
     "end_time": "2023-10-16T16:14:16.722234",
     "exception": false,
     "start_time": "2023-10-16T16:14:16.708407",
     "status": "completed"
    },
    "tags": []
   },
   "source": [
    "### Função para plotar uma tabela"
   ]
  },
  {
   "cell_type": "markdown",
   "id": "9dba2e2e",
   "metadata": {
    "papermill": {
     "duration": 0.014051,
     "end_time": "2023-10-16T16:14:16.808798",
     "exception": false,
     "start_time": "2023-10-16T16:14:16.794747",
     "status": "completed"
    },
    "tags": []
   },
   "source": [
    "Tradução das colunas para melhor visualização e compreensão"
   ]
  },
  {
   "cell_type": "code",
   "execution_count": 6,
   "id": "e110b544",
   "metadata": {
    "execution": {
     "iopub.execute_input": "2023-10-16T16:14:16.838828Z",
     "iopub.status.busy": "2023-10-16T16:14:16.838174Z",
     "iopub.status.idle": "2023-10-16T16:14:16.843858Z",
     "shell.execute_reply": "2023-10-16T16:14:16.842756Z"
    },
    "papermill": {
     "duration": 0.022889,
     "end_time": "2023-10-16T16:14:16.845765",
     "exception": false,
     "start_time": "2023-10-16T16:14:16.822876",
     "status": "completed"
    },
    "tags": []
   },
   "outputs": [],
   "source": [
    "colunas = ['ID da pessoa','Gênero','Idade' , 'Ocupação', 'Duração do sono (horas)','Qualidade do sono (escala: 1-10)','Nível de atividade física (minutos/dia)','Nível de estresse (escala: 1-10)','Categoria de IMC','Pressão arterial (sistólica/diastólica)','Frequência cardíaca (bpm)','Passos diários','Distúrbio do sono' ]\n",
    "data.columns = colunas"
   ]
  },
  {
   "cell_type": "code",
   "execution_count": 7,
   "id": "4f10fb48",
   "metadata": {
    "execution": {
     "iopub.execute_input": "2023-10-16T16:14:16.876434Z",
     "iopub.status.busy": "2023-10-16T16:14:16.875605Z",
     "iopub.status.idle": "2023-10-16T16:14:16.887715Z",
     "shell.execute_reply": "2023-10-16T16:14:16.887045Z"
    },
    "papermill": {
     "duration": 0.029275,
     "end_time": "2023-10-16T16:14:16.889420",
     "exception": false,
     "start_time": "2023-10-16T16:14:16.860145",
     "status": "completed"
    },
    "tags": []
   },
   "outputs": [
    {
     "data": {
      "text/html": [
       "<div>\n",
       "<style scoped>\n",
       "    .dataframe tbody tr th:only-of-type {\n",
       "        vertical-align: middle;\n",
       "    }\n",
       "\n",
       "    .dataframe tbody tr th {\n",
       "        vertical-align: top;\n",
       "    }\n",
       "\n",
       "    .dataframe thead th {\n",
       "        text-align: right;\n",
       "    }\n",
       "</style>\n",
       "<table border=\"1\" class=\"dataframe\">\n",
       "  <thead>\n",
       "    <tr style=\"text-align: right;\">\n",
       "      <th></th>\n",
       "      <th>ID da pessoa</th>\n",
       "      <th>Gênero</th>\n",
       "      <th>Idade</th>\n",
       "      <th>Ocupação</th>\n",
       "      <th>Duração do sono (horas)</th>\n",
       "      <th>Qualidade do sono (escala: 1-10)</th>\n",
       "      <th>Nível de atividade física (minutos/dia)</th>\n",
       "      <th>Nível de estresse (escala: 1-10)</th>\n",
       "      <th>Categoria de IMC</th>\n",
       "      <th>Pressão arterial (sistólica/diastólica)</th>\n",
       "      <th>Frequência cardíaca (bpm)</th>\n",
       "      <th>Passos diários</th>\n",
       "      <th>Distúrbio do sono</th>\n",
       "    </tr>\n",
       "  </thead>\n",
       "  <tbody>\n",
       "    <tr>\n",
       "      <th>0</th>\n",
       "      <td>1</td>\n",
       "      <td>Male</td>\n",
       "      <td>27</td>\n",
       "      <td>Software Engineer</td>\n",
       "      <td>6.1</td>\n",
       "      <td>6</td>\n",
       "      <td>42</td>\n",
       "      <td>6</td>\n",
       "      <td>Overweight</td>\n",
       "      <td>126/83</td>\n",
       "      <td>77</td>\n",
       "      <td>4200</td>\n",
       "      <td>NaN</td>\n",
       "    </tr>\n",
       "    <tr>\n",
       "      <th>1</th>\n",
       "      <td>2</td>\n",
       "      <td>Male</td>\n",
       "      <td>28</td>\n",
       "      <td>Doctor</td>\n",
       "      <td>6.2</td>\n",
       "      <td>6</td>\n",
       "      <td>60</td>\n",
       "      <td>8</td>\n",
       "      <td>Normal</td>\n",
       "      <td>125/80</td>\n",
       "      <td>75</td>\n",
       "      <td>10000</td>\n",
       "      <td>NaN</td>\n",
       "    </tr>\n",
       "    <tr>\n",
       "      <th>2</th>\n",
       "      <td>3</td>\n",
       "      <td>Male</td>\n",
       "      <td>28</td>\n",
       "      <td>Doctor</td>\n",
       "      <td>6.2</td>\n",
       "      <td>6</td>\n",
       "      <td>60</td>\n",
       "      <td>8</td>\n",
       "      <td>Normal</td>\n",
       "      <td>125/80</td>\n",
       "      <td>75</td>\n",
       "      <td>10000</td>\n",
       "      <td>NaN</td>\n",
       "    </tr>\n",
       "  </tbody>\n",
       "</table>\n",
       "</div>"
      ],
      "text/plain": [
       "   ID da pessoa Gênero  Idade           Ocupação  Duração do sono (horas)  \\\n",
       "0             1   Male     27  Software Engineer                      6.1   \n",
       "1             2   Male     28             Doctor                      6.2   \n",
       "2             3   Male     28             Doctor                      6.2   \n",
       "\n",
       "   Qualidade do sono (escala: 1-10)  Nível de atividade física (minutos/dia)  \\\n",
       "0                                 6                                       42   \n",
       "1                                 6                                       60   \n",
       "2                                 6                                       60   \n",
       "\n",
       "   Nível de estresse (escala: 1-10) Categoria de IMC  \\\n",
       "0                                 6       Overweight   \n",
       "1                                 8           Normal   \n",
       "2                                 8           Normal   \n",
       "\n",
       "  Pressão arterial (sistólica/diastólica)  Frequência cardíaca (bpm)  \\\n",
       "0                                  126/83                         77   \n",
       "1                                  125/80                         75   \n",
       "2                                  125/80                         75   \n",
       "\n",
       "   Passos diários Distúrbio do sono  \n",
       "0            4200               NaN  \n",
       "1           10000               NaN  \n",
       "2           10000               NaN  "
      ]
     },
     "execution_count": 7,
     "metadata": {},
     "output_type": "execute_result"
    }
   ],
   "source": [
    "data.head(3)"
   ]
  },
  {
   "cell_type": "code",
   "execution_count": 8,
   "id": "eb378acd",
   "metadata": {
    "execution": {
     "iopub.execute_input": "2023-10-16T16:14:16.920147Z",
     "iopub.status.busy": "2023-10-16T16:14:16.919178Z",
     "iopub.status.idle": "2023-10-16T16:14:16.927579Z",
     "shell.execute_reply": "2023-10-16T16:14:16.926872Z"
    },
    "papermill": {
     "duration": 0.025659,
     "end_time": "2023-10-16T16:14:16.929437",
     "exception": false,
     "start_time": "2023-10-16T16:14:16.903778",
     "status": "completed"
    },
    "tags": []
   },
   "outputs": [],
   "source": [
    "data['Distúrbio do sono'].loc[data['Distúrbio do sono'].isnull()] = 'Nulo'"
   ]
  },
  {
   "cell_type": "markdown",
   "id": "267cdf94",
   "metadata": {
    "papermill": {
     "duration": 0.014617,
     "end_time": "2023-10-16T16:14:16.958609",
     "exception": false,
     "start_time": "2023-10-16T16:14:16.943992",
     "status": "completed"
    },
    "tags": []
   },
   "source": [
    "### Tratemento dos dados para analise\n",
    "Para melhor analises dos dados se faz necessário o tratamento dos mesmo."
   ]
  },
  {
   "cell_type": "markdown",
   "id": "ccab4667",
   "metadata": {
    "papermill": {
     "duration": 0.014204,
     "end_time": "2023-10-16T16:14:16.987142",
     "exception": false,
     "start_time": "2023-10-16T16:14:16.972938",
     "status": "completed"
    },
    "tags": []
   },
   "source": [
    "##### Pressão arterial (sistólica/diastólica)\n",
    "Dividindo valores de transfomando em colunas \n",
    "* Pressão arterial sistólica\n",
    "* Pressão arterial diastólica\n",
    "\n",
    "##### Id da pessoa \n",
    "E um chave estrangeira , não e boa para fazer analises e nem para a predição do atributo alvo\n"
   ]
  },
  {
   "cell_type": "code",
   "execution_count": 9,
   "id": "3a994b24",
   "metadata": {
    "execution": {
     "iopub.execute_input": "2023-10-16T16:14:17.017560Z",
     "iopub.status.busy": "2023-10-16T16:14:17.016958Z",
     "iopub.status.idle": "2023-10-16T16:14:17.025491Z",
     "shell.execute_reply": "2023-10-16T16:14:17.024773Z"
    },
    "papermill": {
     "duration": 0.025919,
     "end_time": "2023-10-16T16:14:17.027313",
     "exception": false,
     "start_time": "2023-10-16T16:14:17.001394",
     "status": "completed"
    },
    "tags": []
   },
   "outputs": [
    {
     "data": {
      "text/html": [
       "<div>\n",
       "<style scoped>\n",
       "    .dataframe tbody tr th:only-of-type {\n",
       "        vertical-align: middle;\n",
       "    }\n",
       "\n",
       "    .dataframe tbody tr th {\n",
       "        vertical-align: top;\n",
       "    }\n",
       "\n",
       "    .dataframe thead th {\n",
       "        text-align: right;\n",
       "    }\n",
       "</style>\n",
       "<table border=\"1\" class=\"dataframe\">\n",
       "  <thead>\n",
       "    <tr style=\"text-align: right;\">\n",
       "      <th></th>\n",
       "      <th>index</th>\n",
       "      <th>Pressão arterial (sistólica/diastólica)</th>\n",
       "    </tr>\n",
       "  </thead>\n",
       "  <tbody>\n",
       "    <tr>\n",
       "      <th>0</th>\n",
       "      <td>0</td>\n",
       "      <td>126/83</td>\n",
       "    </tr>\n",
       "    <tr>\n",
       "      <th>1</th>\n",
       "      <td>1</td>\n",
       "      <td>125/80</td>\n",
       "    </tr>\n",
       "    <tr>\n",
       "      <th>2</th>\n",
       "      <td>2</td>\n",
       "      <td>125/80</td>\n",
       "    </tr>\n",
       "  </tbody>\n",
       "</table>\n",
       "</div>"
      ],
      "text/plain": [
       "   index Pressão arterial (sistólica/diastólica)\n",
       "0      0                                  126/83\n",
       "1      1                                  125/80\n",
       "2      2                                  125/80"
      ]
     },
     "execution_count": 9,
     "metadata": {},
     "output_type": "execute_result"
    }
   ],
   "source": [
    "PressaoArterial = data['Pressão arterial (sistólica/diastólica)']\n",
    "PressaoArterial = PressaoArterial.reset_index()\n",
    "PressaoArterial.head(3)"
   ]
  },
  {
   "cell_type": "markdown",
   "id": "036b501a",
   "metadata": {
    "papermill": {
     "duration": 0.014192,
     "end_time": "2023-10-16T16:14:17.056512",
     "exception": false,
     "start_time": "2023-10-16T16:14:17.042320",
     "status": "completed"
    },
    "tags": []
   },
   "source": [
    "Dividindo"
   ]
  },
  {
   "cell_type": "code",
   "execution_count": 10,
   "id": "cf99cae5",
   "metadata": {
    "execution": {
     "iopub.execute_input": "2023-10-16T16:14:17.087835Z",
     "iopub.status.busy": "2023-10-16T16:14:17.087210Z",
     "iopub.status.idle": "2023-10-16T16:14:17.095570Z",
     "shell.execute_reply": "2023-10-16T16:14:17.094709Z"
    },
    "papermill": {
     "duration": 0.026047,
     "end_time": "2023-10-16T16:14:17.097345",
     "exception": false,
     "start_time": "2023-10-16T16:14:17.071298",
     "status": "completed"
    },
    "tags": []
   },
   "outputs": [],
   "source": [
    "data[ ['Pressão arterial sistólica','Pressão arterial diastólica']\n",
    "] = PressaoArterial['Pressão arterial (sistólica/diastólica)'].str.split('/',expand=True)"
   ]
  },
  {
   "cell_type": "markdown",
   "id": "18ef8302",
   "metadata": {
    "papermill": {
     "duration": 0.014016,
     "end_time": "2023-10-16T16:14:17.125933",
     "exception": false,
     "start_time": "2023-10-16T16:14:17.111917",
     "status": "completed"
    },
    "tags": []
   },
   "source": [
    "Convertendo para numeros"
   ]
  },
  {
   "cell_type": "code",
   "execution_count": 11,
   "id": "1b8a675b",
   "metadata": {
    "execution": {
     "iopub.execute_input": "2023-10-16T16:14:17.156131Z",
     "iopub.status.busy": "2023-10-16T16:14:17.155754Z",
     "iopub.status.idle": "2023-10-16T16:14:17.161998Z",
     "shell.execute_reply": "2023-10-16T16:14:17.160889Z"
    },
    "papermill": {
     "duration": 0.023745,
     "end_time": "2023-10-16T16:14:17.163894",
     "exception": false,
     "start_time": "2023-10-16T16:14:17.140149",
     "status": "completed"
    },
    "tags": []
   },
   "outputs": [],
   "source": [
    "data['Pressão arterial diastólica'] = data['Pressão arterial diastólica'].astype(int)\n",
    "data['Pressão arterial sistólica']  = data['Pressão arterial sistólica'].astype(int)"
   ]
  },
  {
   "cell_type": "markdown",
   "id": "b29afac1",
   "metadata": {
    "papermill": {
     "duration": 0.01435,
     "end_time": "2023-10-16T16:14:17.192754",
     "exception": false,
     "start_time": "2023-10-16T16:14:17.178404",
     "status": "completed"
    },
    "tags": []
   },
   "source": [
    "Id pessoa"
   ]
  },
  {
   "cell_type": "code",
   "execution_count": 12,
   "id": "7962492c",
   "metadata": {
    "execution": {
     "iopub.execute_input": "2023-10-16T16:14:17.223843Z",
     "iopub.status.busy": "2023-10-16T16:14:17.223440Z",
     "iopub.status.idle": "2023-10-16T16:14:17.239453Z",
     "shell.execute_reply": "2023-10-16T16:14:17.238424Z"
    },
    "papermill": {
     "duration": 0.034162,
     "end_time": "2023-10-16T16:14:17.241582",
     "exception": false,
     "start_time": "2023-10-16T16:14:17.207420",
     "status": "completed"
    },
    "tags": []
   },
   "outputs": [
    {
     "data": {
      "text/plain": [
       "Series([], dtype: bool)"
      ]
     },
     "execution_count": 12,
     "metadata": {},
     "output_type": "execute_result"
    }
   ],
   "source": [
    "idPessoa = data['ID da pessoa'].value_counts().reset_index()\n",
    "idPessoa.loc[ idPessoa['count']>1 ].any(axis=1)"
   ]
  },
  {
   "cell_type": "code",
   "execution_count": 13,
   "id": "090c3ee0",
   "metadata": {
    "execution": {
     "iopub.execute_input": "2023-10-16T16:14:17.272729Z",
     "iopub.status.busy": "2023-10-16T16:14:17.272082Z",
     "iopub.status.idle": "2023-10-16T16:14:17.278015Z",
     "shell.execute_reply": "2023-10-16T16:14:17.277197Z"
    },
    "papermill": {
     "duration": 0.023896,
     "end_time": "2023-10-16T16:14:17.280048",
     "exception": false,
     "start_time": "2023-10-16T16:14:17.256152",
     "status": "completed"
    },
    "tags": []
   },
   "outputs": [],
   "source": [
    "data.drop(columns=['Pressão arterial (sistólica/diastólica)','ID da pessoa'],inplace=True)"
   ]
  },
  {
   "cell_type": "markdown",
   "id": "34a306e3",
   "metadata": {
    "papermill": {
     "duration": 0.014513,
     "end_time": "2023-10-16T16:14:17.309077",
     "exception": false,
     "start_time": "2023-10-16T16:14:17.294564",
     "status": "completed"
    },
    "tags": []
   },
   "source": [
    "### Voltando para analise"
   ]
  },
  {
   "cell_type": "code",
   "execution_count": 14,
   "id": "c1428fce",
   "metadata": {
    "execution": {
     "iopub.execute_input": "2023-10-16T16:14:17.339504Z",
     "iopub.status.busy": "2023-10-16T16:14:17.339135Z",
     "iopub.status.idle": "2023-10-16T16:14:17.345429Z",
     "shell.execute_reply": "2023-10-16T16:14:17.344368Z"
    },
    "papermill": {
     "duration": 0.023786,
     "end_time": "2023-10-16T16:14:17.347369",
     "exception": false,
     "start_time": "2023-10-16T16:14:17.323583",
     "status": "completed"
    },
    "tags": []
   },
   "outputs": [
    {
     "data": {
      "text/plain": [
       "(374, 13)"
      ]
     },
     "execution_count": 14,
     "metadata": {},
     "output_type": "execute_result"
    }
   ],
   "source": [
    "data.shape"
   ]
  },
  {
   "cell_type": "code",
   "execution_count": 15,
   "id": "7a1ea873",
   "metadata": {
    "execution": {
     "iopub.execute_input": "2023-10-16T16:14:17.378384Z",
     "iopub.status.busy": "2023-10-16T16:14:17.378002Z",
     "iopub.status.idle": "2023-10-16T16:14:17.413708Z",
     "shell.execute_reply": "2023-10-16T16:14:17.412600Z"
    },
    "papermill": {
     "duration": 0.053907,
     "end_time": "2023-10-16T16:14:17.415983",
     "exception": false,
     "start_time": "2023-10-16T16:14:17.362076",
     "status": "completed"
    },
    "tags": []
   },
   "outputs": [
    {
     "data": {
      "text/html": [
       "<div>\n",
       "<style scoped>\n",
       "    .dataframe tbody tr th:only-of-type {\n",
       "        vertical-align: middle;\n",
       "    }\n",
       "\n",
       "    .dataframe tbody tr th {\n",
       "        vertical-align: top;\n",
       "    }\n",
       "\n",
       "    .dataframe thead th {\n",
       "        text-align: right;\n",
       "    }\n",
       "</style>\n",
       "<table border=\"1\" class=\"dataframe\">\n",
       "  <thead>\n",
       "    <tr style=\"text-align: right;\">\n",
       "      <th></th>\n",
       "      <th>Idade</th>\n",
       "      <th>Duração do sono (horas)</th>\n",
       "      <th>Qualidade do sono (escala: 1-10)</th>\n",
       "      <th>Nível de atividade física (minutos/dia)</th>\n",
       "      <th>Nível de estresse (escala: 1-10)</th>\n",
       "      <th>Frequência cardíaca (bpm)</th>\n",
       "      <th>Passos diários</th>\n",
       "      <th>Pressão arterial sistólica</th>\n",
       "      <th>Pressão arterial diastólica</th>\n",
       "    </tr>\n",
       "  </thead>\n",
       "  <tbody>\n",
       "    <tr>\n",
       "      <th>count</th>\n",
       "      <td>374.000000</td>\n",
       "      <td>374.000000</td>\n",
       "      <td>374.000000</td>\n",
       "      <td>374.000000</td>\n",
       "      <td>374.000000</td>\n",
       "      <td>374.000000</td>\n",
       "      <td>374.000000</td>\n",
       "      <td>374.000000</td>\n",
       "      <td>374.000000</td>\n",
       "    </tr>\n",
       "    <tr>\n",
       "      <th>mean</th>\n",
       "      <td>42.184492</td>\n",
       "      <td>7.132086</td>\n",
       "      <td>7.312834</td>\n",
       "      <td>59.171123</td>\n",
       "      <td>5.385027</td>\n",
       "      <td>70.165775</td>\n",
       "      <td>6816.844920</td>\n",
       "      <td>128.553476</td>\n",
       "      <td>84.649733</td>\n",
       "    </tr>\n",
       "    <tr>\n",
       "      <th>std</th>\n",
       "      <td>8.673133</td>\n",
       "      <td>0.795657</td>\n",
       "      <td>1.196956</td>\n",
       "      <td>20.830804</td>\n",
       "      <td>1.774526</td>\n",
       "      <td>4.135676</td>\n",
       "      <td>1617.915679</td>\n",
       "      <td>7.748118</td>\n",
       "      <td>6.161611</td>\n",
       "    </tr>\n",
       "    <tr>\n",
       "      <th>min</th>\n",
       "      <td>27.000000</td>\n",
       "      <td>5.800000</td>\n",
       "      <td>4.000000</td>\n",
       "      <td>30.000000</td>\n",
       "      <td>3.000000</td>\n",
       "      <td>65.000000</td>\n",
       "      <td>3000.000000</td>\n",
       "      <td>115.000000</td>\n",
       "      <td>75.000000</td>\n",
       "    </tr>\n",
       "    <tr>\n",
       "      <th>25%</th>\n",
       "      <td>35.250000</td>\n",
       "      <td>6.400000</td>\n",
       "      <td>6.000000</td>\n",
       "      <td>45.000000</td>\n",
       "      <td>4.000000</td>\n",
       "      <td>68.000000</td>\n",
       "      <td>5600.000000</td>\n",
       "      <td>125.000000</td>\n",
       "      <td>80.000000</td>\n",
       "    </tr>\n",
       "    <tr>\n",
       "      <th>50%</th>\n",
       "      <td>43.000000</td>\n",
       "      <td>7.200000</td>\n",
       "      <td>7.000000</td>\n",
       "      <td>60.000000</td>\n",
       "      <td>5.000000</td>\n",
       "      <td>70.000000</td>\n",
       "      <td>7000.000000</td>\n",
       "      <td>130.000000</td>\n",
       "      <td>85.000000</td>\n",
       "    </tr>\n",
       "    <tr>\n",
       "      <th>75%</th>\n",
       "      <td>50.000000</td>\n",
       "      <td>7.800000</td>\n",
       "      <td>8.000000</td>\n",
       "      <td>75.000000</td>\n",
       "      <td>7.000000</td>\n",
       "      <td>72.000000</td>\n",
       "      <td>8000.000000</td>\n",
       "      <td>135.000000</td>\n",
       "      <td>90.000000</td>\n",
       "    </tr>\n",
       "    <tr>\n",
       "      <th>max</th>\n",
       "      <td>59.000000</td>\n",
       "      <td>8.500000</td>\n",
       "      <td>9.000000</td>\n",
       "      <td>90.000000</td>\n",
       "      <td>8.000000</td>\n",
       "      <td>86.000000</td>\n",
       "      <td>10000.000000</td>\n",
       "      <td>142.000000</td>\n",
       "      <td>95.000000</td>\n",
       "    </tr>\n",
       "  </tbody>\n",
       "</table>\n",
       "</div>"
      ],
      "text/plain": [
       "            Idade  Duração do sono (horas)  Qualidade do sono (escala: 1-10)  \\\n",
       "count  374.000000               374.000000                        374.000000   \n",
       "mean    42.184492                 7.132086                          7.312834   \n",
       "std      8.673133                 0.795657                          1.196956   \n",
       "min     27.000000                 5.800000                          4.000000   \n",
       "25%     35.250000                 6.400000                          6.000000   \n",
       "50%     43.000000                 7.200000                          7.000000   \n",
       "75%     50.000000                 7.800000                          8.000000   \n",
       "max     59.000000                 8.500000                          9.000000   \n",
       "\n",
       "       Nível de atividade física (minutos/dia)  \\\n",
       "count                               374.000000   \n",
       "mean                                 59.171123   \n",
       "std                                  20.830804   \n",
       "min                                  30.000000   \n",
       "25%                                  45.000000   \n",
       "50%                                  60.000000   \n",
       "75%                                  75.000000   \n",
       "max                                  90.000000   \n",
       "\n",
       "       Nível de estresse (escala: 1-10)  Frequência cardíaca (bpm)  \\\n",
       "count                        374.000000                 374.000000   \n",
       "mean                           5.385027                  70.165775   \n",
       "std                            1.774526                   4.135676   \n",
       "min                            3.000000                  65.000000   \n",
       "25%                            4.000000                  68.000000   \n",
       "50%                            5.000000                  70.000000   \n",
       "75%                            7.000000                  72.000000   \n",
       "max                            8.000000                  86.000000   \n",
       "\n",
       "       Passos diários  Pressão arterial sistólica  Pressão arterial diastólica  \n",
       "count      374.000000                  374.000000                   374.000000  \n",
       "mean      6816.844920                  128.553476                    84.649733  \n",
       "std       1617.915679                    7.748118                     6.161611  \n",
       "min       3000.000000                  115.000000                    75.000000  \n",
       "25%       5600.000000                  125.000000                    80.000000  \n",
       "50%       7000.000000                  130.000000                    85.000000  \n",
       "75%       8000.000000                  135.000000                    90.000000  \n",
       "max      10000.000000                  142.000000                    95.000000  "
      ]
     },
     "execution_count": 15,
     "metadata": {},
     "output_type": "execute_result"
    }
   ],
   "source": [
    "data.describe()"
   ]
  },
  {
   "cell_type": "markdown",
   "id": "908ecd03",
   "metadata": {
    "papermill": {
     "duration": 0.014631,
     "end_time": "2023-10-16T16:14:17.445831",
     "exception": false,
     "start_time": "2023-10-16T16:14:17.431200",
     "status": "completed"
    },
    "tags": []
   },
   "source": [
    "##### Disturbios do sono"
   ]
  },
  {
   "cell_type": "code",
   "execution_count": 16,
   "id": "3afb5f63",
   "metadata": {
    "execution": {
     "iopub.execute_input": "2023-10-16T16:14:17.478058Z",
     "iopub.status.busy": "2023-10-16T16:14:17.477326Z",
     "iopub.status.idle": "2023-10-16T16:14:17.626121Z",
     "shell.execute_reply": "2023-10-16T16:14:17.624707Z"
    },
    "papermill": {
     "duration": 0.169411,
     "end_time": "2023-10-16T16:14:17.630227",
     "exception": false,
     "start_time": "2023-10-16T16:14:17.460816",
     "status": "completed"
    },
    "tags": []
   },
   "outputs": [
    {
     "data": {
      "image/png": "[encoded data removed]",
      "text/plain": [
       "<Figure size 500x400 with 1 Axes>"
      ]
     },
     "metadata": {},
     "output_type": "display_data"
    }
   ],
   "source": [
    "pizza  = data['Distúrbio do sono'].value_counts().reset_index()\n",
    "plt.figure(figsize=(5,4))\n",
    "plt.pie(x = pizza['count'],labels=pizza['Distúrbio do sono'],colors=sea.color_palette('pastel'),autopct=lambda x : '{:.2f} \\n ({:.0f})'.format(x,(x/100)*pizza['count'].sum()) )\n",
    "plt.show('Proporção de dados do atributo distúbio do sono')\n",
    "plt.show()"
   ]
  },
  {
   "cell_type": "markdown",
   "id": "9e2ad286",
   "metadata": {
    "papermill": {
     "duration": 0.025494,
     "end_time": "2023-10-16T16:14:17.702616",
     "exception": false,
     "start_time": "2023-10-16T16:14:17.677122",
     "status": "completed"
    },
    "tags": []
   },
   "source": [
    "> Existem mais dados de pessoas que não tem nenhum disturbio do sono , se faz necessrio o balanceamento dos dados"
   ]
  },
  {
   "cell_type": "markdown",
   "id": "76e506b3",
   "metadata": {
    "papermill": {
     "duration": 0.015175,
     "end_time": "2023-10-16T16:14:17.733712",
     "exception": false,
     "start_time": "2023-10-16T16:14:17.718537",
     "status": "completed"
    },
    "tags": []
   },
   "source": [
    "#### gender"
   ]
  },
  {
   "cell_type": "code",
   "execution_count": 17,
   "id": "9f837b0b",
   "metadata": {
    "execution": {
     "iopub.execute_input": "2023-10-16T16:14:17.770254Z",
     "iopub.status.busy": "2023-10-16T16:14:17.769604Z",
     "iopub.status.idle": "2023-10-16T16:14:17.782383Z",
     "shell.execute_reply": "2023-10-16T16:14:17.781505Z"
    },
    "papermill": {
     "duration": 0.032507,
     "end_time": "2023-10-16T16:14:17.784501",
     "exception": false,
     "start_time": "2023-10-16T16:14:17.751994",
     "status": "completed"
    },
    "tags": []
   },
   "outputs": [],
   "source": [
    "genderDistubio = data.groupby(by='Gênero')['Distúrbio do sono'].value_counts().reset_index()"
   ]
  },
  {
   "cell_type": "code",
   "execution_count": 18,
   "id": "caf76185",
   "metadata": {
    "execution": {
     "iopub.execute_input": "2023-10-16T16:14:17.816835Z",
     "iopub.status.busy": "2023-10-16T16:14:17.816437Z",
     "iopub.status.idle": "2023-10-16T16:14:17.825466Z",
     "shell.execute_reply": "2023-10-16T16:14:17.824819Z"
    },
    "papermill": {
     "duration": 0.027122,
     "end_time": "2023-10-16T16:14:17.827231",
     "exception": false,
     "start_time": "2023-10-16T16:14:17.800109",
     "status": "completed"
    },
    "tags": []
   },
   "outputs": [
    {
     "data": {
      "text/html": [
       "<div>\n",
       "<style scoped>\n",
       "    .dataframe tbody tr th:only-of-type {\n",
       "        vertical-align: middle;\n",
       "    }\n",
       "\n",
       "    .dataframe tbody tr th {\n",
       "        vertical-align: top;\n",
       "    }\n",
       "\n",
       "    .dataframe thead th {\n",
       "        text-align: right;\n",
       "    }\n",
       "</style>\n",
       "<table border=\"1\" class=\"dataframe\">\n",
       "  <thead>\n",
       "    <tr style=\"text-align: right;\">\n",
       "      <th></th>\n",
       "      <th>Gênero</th>\n",
       "      <th>Distúrbio do sono</th>\n",
       "      <th>count</th>\n",
       "    </tr>\n",
       "  </thead>\n",
       "  <tbody>\n",
       "    <tr>\n",
       "      <th>0</th>\n",
       "      <td>Female</td>\n",
       "      <td>Nulo</td>\n",
       "      <td>82</td>\n",
       "    </tr>\n",
       "    <tr>\n",
       "      <th>1</th>\n",
       "      <td>Female</td>\n",
       "      <td>Sleep Apnea</td>\n",
       "      <td>67</td>\n",
       "    </tr>\n",
       "    <tr>\n",
       "      <th>2</th>\n",
       "      <td>Female</td>\n",
       "      <td>Insomnia</td>\n",
       "      <td>36</td>\n",
       "    </tr>\n",
       "    <tr>\n",
       "      <th>3</th>\n",
       "      <td>Male</td>\n",
       "      <td>Nulo</td>\n",
       "      <td>137</td>\n",
       "    </tr>\n",
       "    <tr>\n",
       "      <th>4</th>\n",
       "      <td>Male</td>\n",
       "      <td>Insomnia</td>\n",
       "      <td>41</td>\n",
       "    </tr>\n",
       "    <tr>\n",
       "      <th>5</th>\n",
       "      <td>Male</td>\n",
       "      <td>Sleep Apnea</td>\n",
       "      <td>11</td>\n",
       "    </tr>\n",
       "  </tbody>\n",
       "</table>\n",
       "</div>"
      ],
      "text/plain": [
       "   Gênero Distúrbio do sono  count\n",
       "0  Female              Nulo     82\n",
       "1  Female       Sleep Apnea     67\n",
       "2  Female          Insomnia     36\n",
       "3    Male              Nulo    137\n",
       "4    Male          Insomnia     41\n",
       "5    Male       Sleep Apnea     11"
      ]
     },
     "execution_count": 18,
     "metadata": {},
     "output_type": "execute_result"
    }
   ],
   "source": [
    "genderDistubio"
   ]
  },
  {
   "cell_type": "code",
   "execution_count": 19,
   "id": "dd986052",
   "metadata": {
    "execution": {
     "iopub.execute_input": "2023-10-16T16:14:17.861169Z",
     "iopub.status.busy": "2023-10-16T16:14:17.860283Z",
     "iopub.status.idle": "2023-10-16T16:14:18.162629Z",
     "shell.execute_reply": "2023-10-16T16:14:18.161542Z"
    },
    "papermill": {
     "duration": 0.321667,
     "end_time": "2023-10-16T16:14:18.165122",
     "exception": false,
     "start_time": "2023-10-16T16:14:17.843455",
     "status": "completed"
    },
    "tags": []
   },
   "outputs": [
    {
     "data": {
      "image/png": "[encoded data removed]",
      "text/plain": [
       "<Figure size 1200x600 with 1 Axes>"
      ]
     },
     "metadata": {},
     "output_type": "display_data"
    }
   ],
   "source": [
    "gender  = genderDistubio.groupby(by=['Gênero'])['count'].sum()\n",
    "genderD = genderDistubio.groupby(by=['Gênero','Distúrbio do sono'])['count'].sum()\n",
    "\n",
    "colorsG = sea.color_palette('Spectral')[0:2] \n",
    "colors  = sea.color_palette('pastel')\n",
    "\n",
    "fig , ax = plt.subplots()\n",
    "fig.set_figwidth(12)\n",
    "fig.set_figheight(6)\n",
    "\n",
    "ax.pie( x = gender , radius=0.6 ,wedgeprops=dict(width=0.3, edgecolor='w'), pctdistance=0.7,colors=colorsG,\n",
    "        autopct=lambda x : '{:.2f}%({:.0f})'.format(x,(x/100)*gender.values.sum()))\n",
    "ax.pie( x = genderDistubio['count'] , labels=genderDistubio['Distúrbio do sono'].values ,wedgeprops=dict(width=0.42, edgecolor='w'),radius=1,pctdistance=0.8,colors=colors,\n",
    "        autopct=lambda x : '{:.2f}%({:.0f})'.format(x,(x/100)*genderD.values.sum()))\n",
    "\n",
    "legends = []\n",
    "for value, color in zip(genderDistubio['Gênero'].unique(), colorsG): \n",
    "       legends.append(mpatches.Patch(color=color, label=value))\n",
    "ax.set_title('Proporção de disturbios do sono por genero',y=1.03)\n",
    "ax.legend(title='Feminino',handles=legends,bbox_to_anchor=(1.2,0.9,0,0))\n",
    "plt.show()"
   ]
  },
  {
   "cell_type": "code",
   "execution_count": 20,
   "id": "82e62c30",
   "metadata": {
    "execution": {
     "iopub.execute_input": "2023-10-16T16:14:18.201435Z",
     "iopub.status.busy": "2023-10-16T16:14:18.200232Z",
     "iopub.status.idle": "2023-10-16T16:14:18.503786Z",
     "shell.execute_reply": "2023-10-16T16:14:18.502723Z"
    },
    "papermill": {
     "duration": 0.323373,
     "end_time": "2023-10-16T16:14:18.505628",
     "exception": false,
     "start_time": "2023-10-16T16:14:18.182255",
     "status": "completed"
    },
    "tags": []
   },
   "outputs": [
    {
     "data": {
      "image/png": "[encoded data removed]",
      "text/plain": [
       "<Figure size 800x400 with 1 Axes>"
      ]
     },
     "metadata": {},
     "output_type": "display_data"
    }
   ],
   "source": [
    "bar = pd.concat([data.drop(columns='Idade'),pd.cut(data['Idade'],bins=[26,35,45,60])],axis=1).groupby( by=['Idade','Distúrbio do sono'] )['Qualidade do sono (escala: 1-10)'].mean().reset_index(name='Média Qualidade do sono (escala: 1-10)')\n",
    "\n",
    "plt.figure(figsize=(8,4))\n",
    "plot = sea.barplot(y = bar['Idade'], x=bar['Média Qualidade do sono (escala: 1-10)'],hue=bar['Distúrbio do sono'] , orient='h',width=0.65,palette='pastel')\n",
    "\n",
    "for p in plot.patches:\n",
    "    if p.get_width() != 0:\n",
    "        plt.annotate(\"%.2f\" % p.get_width(), xy = (p.get_width(), p.get_y()+p.get_height()/2), xytext    = (0, 0), textcoords= 'offset points', ha = 'right', va = \"center\")\n",
    "\n",
    "plt.legend(bbox_to_anchor=(1,1,0,0))\n",
    "plt.ylabel('Intervalo de idades')\n",
    "plt.show()"
   ]
  },
  {
   "cell_type": "markdown",
   "id": "50d4123a",
   "metadata": {
    "papermill": {
     "duration": 0.017064,
     "end_time": "2023-10-16T16:14:18.540048",
     "exception": false,
     "start_time": "2023-10-16T16:14:18.522984",
     "status": "completed"
    },
    "tags": []
   },
   "source": [
    "> Pessoas que não possuem nenhum disturbio na média possuem uma maior qualidade do sono"
   ]
  },
  {
   "cell_type": "code",
   "execution_count": 21,
   "id": "6f2ec18d",
   "metadata": {
    "execution": {
     "iopub.execute_input": "2023-10-16T16:14:18.577945Z",
     "iopub.status.busy": "2023-10-16T16:14:18.576996Z",
     "iopub.status.idle": "2023-10-16T16:14:19.660597Z",
     "shell.execute_reply": "2023-10-16T16:14:19.659830Z"
    },
    "papermill": {
     "duration": 1.104492,
     "end_time": "2023-10-16T16:14:19.662383",
     "exception": false,
     "start_time": "2023-10-16T16:14:18.557891",
     "status": "completed"
    },
    "tags": []
   },
   "outputs": [
    {
     "data": {
      "image/png": "[encoded data removed]",
      "text/plain": [
       "<Figure size 1200x1000 with 9 Axes>"
      ]
     },
     "metadata": {},
     "output_type": "display_data"
    }
   ],
   "source": [
    "fig , ax = plt.subplots(3,3)\n",
    "fig.set_figwidth(12)\n",
    "fig.set_figheight(10)\n",
    "fig.subplots_adjust(hspace=0.3, wspace=0.3)\n",
    "coluna = data.select_dtypes(include=['int64', 'float64']).columns\n",
    "index = 0\n",
    "for i in range(3):\n",
    "    for j in range(3):\n",
    "        ax[i,j].set_title(coluna[index])\n",
    "        sea.boxplot(data[coluna[index]],ax=ax[i,j])\n",
    "        index = index +1\n",
    "plt.show()          "
   ]
  },
  {
   "cell_type": "code",
   "execution_count": 22,
   "id": "37a82857",
   "metadata": {
    "execution": {
     "iopub.execute_input": "2023-10-16T16:14:19.701388Z",
     "iopub.status.busy": "2023-10-16T16:14:19.700412Z",
     "iopub.status.idle": "2023-10-16T16:14:19.708104Z",
     "shell.execute_reply": "2023-10-16T16:14:19.707143Z"
    },
    "papermill": {
     "duration": 0.02951,
     "end_time": "2023-10-16T16:14:19.710281",
     "exception": false,
     "start_time": "2023-10-16T16:14:19.680771",
     "status": "completed"
    },
    "tags": []
   },
   "outputs": [
    {
     "data": {
      "text/plain": [
       "Ocupação\n",
       "Nurse                   73\n",
       "Doctor                  71\n",
       "Engineer                63\n",
       "Lawyer                  47\n",
       "Teacher                 40\n",
       "Accountant              37\n",
       "Salesperson             32\n",
       "Software Engineer        4\n",
       "Scientist                4\n",
       "Sales Representative     2\n",
       "Manager                  1\n",
       "Name: count, dtype: int64"
      ]
     },
     "execution_count": 22,
     "metadata": {},
     "output_type": "execute_result"
    }
   ],
   "source": [
    "data['Ocupação'].value_counts()"
   ]
  },
  {
   "cell_type": "code",
   "execution_count": 23,
   "id": "b2e8db85",
   "metadata": {
    "execution": {
     "iopub.execute_input": "2023-10-16T16:14:19.751367Z",
     "iopub.status.busy": "2023-10-16T16:14:19.751018Z",
     "iopub.status.idle": "2023-10-16T16:14:20.259930Z",
     "shell.execute_reply": "2023-10-16T16:14:20.258891Z"
    },
    "papermill": {
     "duration": 0.534706,
     "end_time": "2023-10-16T16:14:20.264296",
     "exception": false,
     "start_time": "2023-10-16T16:14:19.729590",
     "status": "completed"
    },
    "tags": []
   },
   "outputs": [
    {
     "data": {
      "image/png": "[encoded data removed]",
      "text/plain": [
       "<Figure size 640x480 with 1 Axes>"
      ]
     },
     "metadata": {},
     "output_type": "display_data"
    }
   ],
   "source": [
    "select = data[['Ocupação','Nível de atividade física (minutos/dia)','Nível de estresse (escala: 1-10)']]\n",
    "sea.scatterplot(y = select['Nível de atividade física (minutos/dia)'],x = select['Nível de estresse (escala: 1-10)'],hue=select['Ocupação'])\n",
    "plt.legend(bbox_to_anchor=(1,1,0,0))\n",
    "plt.show()"
   ]
  },
  {
   "cell_type": "code",
   "execution_count": 24,
   "id": "770fa1fe",
   "metadata": {
    "execution": {
     "iopub.execute_input": "2023-10-16T16:14:20.307633Z",
     "iopub.status.busy": "2023-10-16T16:14:20.306845Z",
     "iopub.status.idle": "2023-10-16T16:14:43.581885Z",
     "shell.execute_reply": "2023-10-16T16:14:43.580799Z"
    },
    "papermill": {
     "duration": 23.30586,
     "end_time": "2023-10-16T16:14:43.590423",
     "exception": false,
     "start_time": "2023-10-16T16:14:20.284563",
     "status": "completed"
    },
    "tags": []
   },
   "outputs": [],
   "source": [
    "plt.figure(figsize=(12,15))\n",
    "sea.pairplot(data.drop(columns='Idade'),hue='Distúrbio do sono')\n",
    "plt.show()"
   ]
  },
  {
   "cell_type": "markdown",
   "id": "b957a131",
   "metadata": {
    "papermill": {
     "duration": 0.030095,
     "end_time": "2023-10-16T16:14:43.650971",
     "exception": false,
     "start_time": "2023-10-16T16:14:43.620876",
     "status": "completed"
    },
    "tags": []
   },
   "source": []
  },
  {
   "cell_type": "markdown",
   "id": "da14f9ac",
   "metadata": {
    "papermill": {
     "duration": 0.029986,
     "end_time": "2023-10-16T16:14:43.711859",
     "exception": false,
     "start_time": "2023-10-16T16:14:43.681873",
     "status": "completed"
    },
    "tags": []
   },
   "source": [
    "&nbsp;"
   ]
  },
  {
   "cell_type": "markdown",
   "id": "a015680f",
   "metadata": {
    "papermill": {
     "duration": 0.029879,
     "end_time": "2023-10-16T16:14:43.772122",
     "exception": false,
     "start_time": "2023-10-16T16:14:43.742243",
     "status": "completed"
    },
    "tags": []
   },
   "source": [
    "# Classificação"
   ]
  },
  {
   "cell_type": "code",
   "execution_count": null,
   "id": "dadd2b2f",
   "metadata": {
    "execution": {
     "iopub.execute_input": "2023-10-16T16:14:43.836708Z",
     "iopub.status.busy": "2023-10-16T16:14:43.836329Z",
     "iopub.status.idle": "2023-10-16T16:14:44.313528Z",
     "shell.execute_reply": "2023-10-16T16:14:44.312563Z"
    },
    "papermill": {
     "duration": 0.513367,
     "end_time": "2023-10-16T16:14:44.315972",
     "exception": false,
     "start_time": "2023-10-16T16:14:43.802605",
     "status": "completed"
    },
    "tags": []
   },
   "outputs": [],
   "source": [
    "from sklearn.preprocessing import LabelBinarizer,LabelEncoder,StandardScaler,MinMaxScaler\n",
    "from sklearn.metrics       import *\n",
    "from sklearn.model_selection import GridSearchCV,RandomizedSearchCV,train_test_split,KFold,cross_val_score,cross_val_predict\n",
    "\n",
    "from sklearn.tree        import DecisionTreeClassifier\n",
    "from sklearn.naive_bayes import BernoulliNB,GaussianNB\n",
    "from sklearn.neighbors   import KNeighborsClassifier\n",
    "from sklearn.linear_model import LogisticRegression"
   ]
  },
  {
   "cell_type": "markdown",
   "id": "d94bb430",
   "metadata": {
    "papermill": {
     "duration": 0.030235,
     "end_time": "2023-10-16T16:14:44.378272",
     "exception": false,
     "start_time": "2023-10-16T16:14:44.348037",
     "status": "completed"
    },
    "tags": []
   },
   "source": [
    "## Preprocessamento"
   ]
  },
  {
   "cell_type": "code",
   "execution_count": null,
   "id": "cf1152bf",
   "metadata": {
    "execution": {
     "iopub.execute_input": "2023-10-16T16:14:44.442757Z",
     "iopub.status.busy": "2023-10-16T16:14:44.442391Z",
     "iopub.status.idle": "2023-10-16T16:14:44.446474Z",
     "shell.execute_reply": "2023-10-16T16:14:44.445698Z"
    },
    "papermill": {
     "duration": 0.03889,
     "end_time": "2023-10-16T16:14:44.448350",
     "exception": false,
     "start_time": "2023-10-16T16:14:44.409460",
     "status": "completed"
    },
    "tags": []
   },
   "outputs": [],
   "source": [
    "classGender   = LabelBinarizer()\n",
    "classOcupacao = LabelEncoder()\n",
    "classDisturbio = LabelEncoder()"
   ]
  },
  {
   "cell_type": "code",
   "execution_count": null,
   "id": "fc9480e4",
   "metadata": {
    "execution": {
     "iopub.execute_input": "2023-10-16T16:14:44.511046Z",
     "iopub.status.busy": "2023-10-16T16:14:44.510644Z",
     "iopub.status.idle": "2023-10-16T16:14:44.521537Z",
     "shell.execute_reply": "2023-10-16T16:14:44.520743Z"
    },
    "papermill": {
     "duration": 0.044796,
     "end_time": "2023-10-16T16:14:44.523527",
     "exception": false,
     "start_time": "2023-10-16T16:14:44.478731",
     "status": "completed"
    },
    "tags": []
   },
   "outputs": [],
   "source": [
    "data['Gênero']   = classGender.fit_transform(data['Gênero'])\n",
    "data['Ocupação'] = classOcupacao.fit_transform(data['Ocupação'])\n",
    "data['Distúrbio do sono'] = classDisturbio.fit_transform(data['Distúrbio do sono'])"
   ]
  },
  {
   "cell_type": "code",
   "execution_count": null,
   "id": "af977586",
   "metadata": {
    "execution": {
     "iopub.execute_input": "2023-10-16T16:14:44.587965Z",
     "iopub.status.busy": "2023-10-16T16:14:44.587443Z",
     "iopub.status.idle": "2023-10-16T16:14:44.593825Z",
     "shell.execute_reply": "2023-10-16T16:14:44.592749Z"
    },
    "papermill": {
     "duration": 0.041104,
     "end_time": "2023-10-16T16:14:44.595973",
     "exception": false,
     "start_time": "2023-10-16T16:14:44.554869",
     "status": "completed"
    },
    "tags": []
   },
   "outputs": [
    {
     "data": {
      "text/plain": [
       "array(['Insomnia', 'Nulo', 'Sleep Apnea'], dtype=object)"
      ]
     },
     "execution_count": 28,
     "metadata": {},
     "output_type": "execute_result"
    }
   ],
   "source": [
    "classDisturbio.classes_"
   ]
  },
  {
   "cell_type": "code",
   "execution_count": null,
   "id": "3b03a7f8",
   "metadata": {
    "execution": {
     "iopub.execute_input": "2023-10-16T16:14:44.660819Z",
     "iopub.status.busy": "2023-10-16T16:14:44.659863Z",
     "iopub.status.idle": "2023-10-16T16:14:44.670508Z",
     "shell.execute_reply": "2023-10-16T16:14:44.669370Z"
    },
    "papermill": {
     "duration": 0.045666,
     "end_time": "2023-10-16T16:14:44.672695",
     "exception": false,
     "start_time": "2023-10-16T16:14:44.627029",
     "status": "completed"
    },
    "tags": []
   },
   "outputs": [],
   "source": [
    "data = pd.get_dummies(data,columns=['Ocupação','Categoria de IMC','Gênero'],dtype=int)"
   ]
  },
  {
   "cell_type": "code",
   "execution_count": null,
   "id": "c7999afb",
   "metadata": {
    "execution": {
     "iopub.execute_input": "2023-10-16T16:14:44.737671Z",
     "iopub.status.busy": "2023-10-16T16:14:44.736567Z",
     "iopub.status.idle": "2023-10-16T16:14:44.752914Z",
     "shell.execute_reply": "2023-10-16T16:14:44.751968Z"
    },
    "papermill": {
     "duration": 0.051309,
     "end_time": "2023-10-16T16:14:44.754758",
     "exception": false,
     "start_time": "2023-10-16T16:14:44.703449",
     "status": "completed"
    },
    "tags": []
   },
   "outputs": [
    {
     "data": {
      "text/plain": [
       "Idade                                      0.232000\n",
       "Duração do sono (horas)                    0.177552\n",
       "Qualidade do sono (escala: 1-10)           0.179592\n",
       "Nível de atividade física (minutos/dia)    0.433214\n",
       "Nível de estresse (escala: 1-10)          -0.036058\n",
       "Frequência cardíaca (bpm)                  0.205987\n",
       "Passos diários                             0.342098\n",
       "Distúrbio do sono                          1.000000\n",
       "Pressão arterial sistólica                 0.241786\n",
       "Pressão arterial diastólica                0.310051\n",
       "Ocupação_0                                -0.098753\n",
       "Ocupação_1                                 0.008580\n",
       "Ocupação_2                                -0.046259\n",
       "Ocupação_3                                 0.010955\n",
       "Ocupação_4                                -0.000215\n",
       "Ocupação_5                                 0.605749\n",
       "Ocupação_6                                 0.113594\n",
       "Ocupação_7                                -0.417031\n",
       "Ocupação_8                                 0.080324\n",
       "Ocupação_9                                -0.040810\n",
       "Ocupação_10                               -0.310537\n",
       "Categoria de IMC_Normal                   -0.020964\n",
       "Categoria de IMC_Normal Weight            -0.001013\n",
       "Categoria de IMC_Obese                     0.050805\n",
       "Categoria de IMC_Overweight                0.005132\n",
       "Gênero_0                                   0.253415\n",
       "Gênero_1                                  -0.253415\n",
       "dtype: float64"
      ]
     },
     "execution_count": 30,
     "metadata": {},
     "output_type": "execute_result"
    }
   ],
   "source": [
    "data.corrwith(data['Distúrbio do sono'])"
   ]
  },
  {
   "cell_type": "markdown",
   "id": "0706f658",
   "metadata": {
    "papermill": {
     "duration": 0.030646,
     "end_time": "2023-10-16T16:14:44.815996",
     "exception": false,
     "start_time": "2023-10-16T16:14:44.785350",
     "status": "completed"
    },
    "tags": []
   },
   "source": [
    "#### Padronização"
   ]
  },
  {
   "cell_type": "code",
   "execution_count": null,
   "id": "33fef0a9",
   "metadata": {
    "execution": {
     "iopub.execute_input": "2023-10-16T16:14:44.880174Z",
     "iopub.status.busy": "2023-10-16T16:14:44.879277Z",
     "iopub.status.idle": "2023-10-16T16:14:44.889254Z",
     "shell.execute_reply": "2023-10-16T16:14:44.888372Z"
    },
    "papermill": {
     "duration": 0.043871,
     "end_time": "2023-10-16T16:14:44.891112",
     "exception": false,
     "start_time": "2023-10-16T16:14:44.847241",
     "status": "completed"
    },
    "tags": []
   },
   "outputs": [],
   "source": [
    "data[\n",
    "    ['Pressão arterial sistólica','Pressão arterial diastólica','Duração do sono (horas)', \n",
    "    'Qualidade do sono (escala: 1-10)','Nível de atividade física (minutos/dia)',\n",
    "    'Nível de estresse (escala: 1-10)','Frequência cardíaca (bpm)','Idade','Passos diários']\n",
    "    ] = MinMaxScaler().fit_transform(data[['Pressão arterial sistólica','Pressão arterial diastólica','Duração do sono (horas)', 'Qualidade do sono (escala: 1-10)','Nível de atividade física (minutos/dia)','Nível de estresse (escala: 1-10)','Frequência cardíaca (bpm)','Idade','Passos diários']])"
   ]
  },
  {
   "cell_type": "code",
   "execution_count": null,
   "id": "e860146e",
   "metadata": {
    "execution": {
     "iopub.execute_input": "2023-10-16T16:14:44.954384Z",
     "iopub.status.busy": "2023-10-16T16:14:44.953729Z",
     "iopub.status.idle": "2023-10-16T16:14:44.973323Z",
     "shell.execute_reply": "2023-10-16T16:14:44.972264Z"
    },
    "papermill": {
     "duration": 0.0538,
     "end_time": "2023-10-16T16:14:44.975274",
     "exception": false,
     "start_time": "2023-10-16T16:14:44.921474",
     "status": "completed"
    },
    "tags": []
   },
   "outputs": [
    {
     "data": {
      "text/html": [
       "<div>\n",
       "<style scoped>\n",
       "    .dataframe tbody tr th:only-of-type {\n",
       "        vertical-align: middle;\n",
       "    }\n",
       "\n",
       "    .dataframe tbody tr th {\n",
       "        vertical-align: top;\n",
       "    }\n",
       "\n",
       "    .dataframe thead th {\n",
       "        text-align: right;\n",
       "    }\n",
       "</style>\n",
       "<table border=\"1\" class=\"dataframe\">\n",
       "  <thead>\n",
       "    <tr style=\"text-align: right;\">\n",
       "      <th></th>\n",
       "      <th>Idade</th>\n",
       "      <th>Duração do sono (horas)</th>\n",
       "      <th>Qualidade do sono (escala: 1-10)</th>\n",
       "      <th>Nível de atividade física (minutos/dia)</th>\n",
       "      <th>Nível de estresse (escala: 1-10)</th>\n",
       "      <th>Frequência cardíaca (bpm)</th>\n",
       "      <th>Passos diários</th>\n",
       "      <th>Distúrbio do sono</th>\n",
       "      <th>Pressão arterial sistólica</th>\n",
       "      <th>Pressão arterial diastólica</th>\n",
       "      <th>...</th>\n",
       "      <th>Ocupação_7</th>\n",
       "      <th>Ocupação_8</th>\n",
       "      <th>Ocupação_9</th>\n",
       "      <th>Ocupação_10</th>\n",
       "      <th>Categoria de IMC_Normal</th>\n",
       "      <th>Categoria de IMC_Normal Weight</th>\n",
       "      <th>Categoria de IMC_Obese</th>\n",
       "      <th>Categoria de IMC_Overweight</th>\n",
       "      <th>Gênero_0</th>\n",
       "      <th>Gênero_1</th>\n",
       "    </tr>\n",
       "  </thead>\n",
       "  <tbody>\n",
       "    <tr>\n",
       "      <th>0</th>\n",
       "      <td>0.00000</td>\n",
       "      <td>0.111111</td>\n",
       "      <td>0.4</td>\n",
       "      <td>0.2</td>\n",
       "      <td>0.6</td>\n",
       "      <td>0.571429</td>\n",
       "      <td>0.171429</td>\n",
       "      <td>1</td>\n",
       "      <td>0.407407</td>\n",
       "      <td>0.40</td>\n",
       "      <td>...</td>\n",
       "      <td>0</td>\n",
       "      <td>0</td>\n",
       "      <td>1</td>\n",
       "      <td>0</td>\n",
       "      <td>0</td>\n",
       "      <td>0</td>\n",
       "      <td>0</td>\n",
       "      <td>1</td>\n",
       "      <td>0</td>\n",
       "      <td>1</td>\n",
       "    </tr>\n",
       "    <tr>\n",
       "      <th>1</th>\n",
       "      <td>0.03125</td>\n",
       "      <td>0.148148</td>\n",
       "      <td>0.4</td>\n",
       "      <td>0.5</td>\n",
       "      <td>1.0</td>\n",
       "      <td>0.476190</td>\n",
       "      <td>1.000000</td>\n",
       "      <td>1</td>\n",
       "      <td>0.370370</td>\n",
       "      <td>0.25</td>\n",
       "      <td>...</td>\n",
       "      <td>0</td>\n",
       "      <td>0</td>\n",
       "      <td>0</td>\n",
       "      <td>0</td>\n",
       "      <td>1</td>\n",
       "      <td>0</td>\n",
       "      <td>0</td>\n",
       "      <td>0</td>\n",
       "      <td>0</td>\n",
       "      <td>1</td>\n",
       "    </tr>\n",
       "    <tr>\n",
       "      <th>2</th>\n",
       "      <td>0.03125</td>\n",
       "      <td>0.148148</td>\n",
       "      <td>0.4</td>\n",
       "      <td>0.5</td>\n",
       "      <td>1.0</td>\n",
       "      <td>0.476190</td>\n",
       "      <td>1.000000</td>\n",
       "      <td>1</td>\n",
       "      <td>0.370370</td>\n",
       "      <td>0.25</td>\n",
       "      <td>...</td>\n",
       "      <td>0</td>\n",
       "      <td>0</td>\n",
       "      <td>0</td>\n",
       "      <td>0</td>\n",
       "      <td>1</td>\n",
       "      <td>0</td>\n",
       "      <td>0</td>\n",
       "      <td>0</td>\n",
       "      <td>0</td>\n",
       "      <td>1</td>\n",
       "    </tr>\n",
       "    <tr>\n",
       "      <th>3</th>\n",
       "      <td>0.03125</td>\n",
       "      <td>0.037037</td>\n",
       "      <td>0.0</td>\n",
       "      <td>0.0</td>\n",
       "      <td>1.0</td>\n",
       "      <td>0.952381</td>\n",
       "      <td>0.000000</td>\n",
       "      <td>2</td>\n",
       "      <td>0.925926</td>\n",
       "      <td>0.75</td>\n",
       "      <td>...</td>\n",
       "      <td>0</td>\n",
       "      <td>0</td>\n",
       "      <td>0</td>\n",
       "      <td>0</td>\n",
       "      <td>0</td>\n",
       "      <td>0</td>\n",
       "      <td>1</td>\n",
       "      <td>0</td>\n",
       "      <td>0</td>\n",
       "      <td>1</td>\n",
       "    </tr>\n",
       "  </tbody>\n",
       "</table>\n",
       "<p>4 rows × 27 columns</p>\n",
       "</div>"
      ],
      "text/plain": [
       "     Idade  Duração do sono (horas)  Qualidade do sono (escala: 1-10)  \\\n",
       "0  0.00000                 0.111111                               0.4   \n",
       "1  0.03125                 0.148148                               0.4   \n",
       "2  0.03125                 0.148148                               0.4   \n",
       "3  0.03125                 0.037037                               0.0   \n",
       "\n",
       "   Nível de atividade física (minutos/dia)  Nível de estresse (escala: 1-10)  \\\n",
       "0                                      0.2                               0.6   \n",
       "1                                      0.5                               1.0   \n",
       "2                                      0.5                               1.0   \n",
       "3                                      0.0                               1.0   \n",
       "\n",
       "   Frequência cardíaca (bpm)  Passos diários  Distúrbio do sono  \\\n",
       "0                   0.571429        0.171429                  1   \n",
       "1                   0.476190        1.000000                  1   \n",
       "2                   0.476190        1.000000                  1   \n",
       "3                   0.952381        0.000000                  2   \n",
       "\n",
       "   Pressão arterial sistólica  Pressão arterial diastólica  ...  Ocupação_7  \\\n",
       "0                    0.407407                         0.40  ...           0   \n",
       "1                    0.370370                         0.25  ...           0   \n",
       "2                    0.370370                         0.25  ...           0   \n",
       "3                    0.925926                         0.75  ...           0   \n",
       "\n",
       "   Ocupação_8  Ocupação_9  Ocupação_10  Categoria de IMC_Normal  \\\n",
       "0           0           1            0                        0   \n",
       "1           0           0            0                        1   \n",
       "2           0           0            0                        1   \n",
       "3           0           0            0                        0   \n",
       "\n",
       "   Categoria de IMC_Normal Weight  Categoria de IMC_Obese  \\\n",
       "0                               0                       0   \n",
       "1                               0                       0   \n",
       "2                               0                       0   \n",
       "3                               0                       1   \n",
       "\n",
       "   Categoria de IMC_Overweight  Gênero_0  Gênero_1  \n",
       "0                            1         0         1  \n",
       "1                            0         0         1  \n",
       "2                            0         0         1  \n",
       "3                            0         0         1  \n",
       "\n",
       "[4 rows x 27 columns]"
      ]
     },
     "execution_count": 32,
     "metadata": {},
     "output_type": "execute_result"
    }
   ],
   "source": [
    "data.head(4)"
   ]
  },
  {
   "cell_type": "markdown",
   "id": "7c7e7951",
   "metadata": {
    "papermill": {
     "duration": 0.030949,
     "end_time": "2023-10-16T16:14:45.037390",
     "exception": false,
     "start_time": "2023-10-16T16:14:45.006441",
     "status": "completed"
    },
    "tags": []
   },
   "source": [
    "#### Balanceamento dos dados"
   ]
  },
  {
   "cell_type": "code",
   "execution_count": null,
   "id": "1334c41d",
   "metadata": {
    "execution": {
     "iopub.execute_input": "2023-10-16T16:14:45.102222Z",
     "iopub.status.busy": "2023-10-16T16:14:45.101474Z",
     "iopub.status.idle": "2023-10-16T16:14:45.416099Z",
     "shell.execute_reply": "2023-10-16T16:14:45.415148Z"
    },
    "papermill": {
     "duration": 0.349956,
     "end_time": "2023-10-16T16:14:45.418326",
     "exception": false,
     "start_time": "2023-10-16T16:14:45.068370",
     "status": "completed"
    },
    "tags": []
   },
   "outputs": [],
   "source": [
    "from imblearn.under_sampling import RandomUnderSampler"
   ]
  },
  {
   "cell_type": "code",
   "execution_count": null,
   "id": "a38db717",
   "metadata": {
    "execution": {
     "iopub.execute_input": "2023-10-16T16:14:45.482739Z",
     "iopub.status.busy": "2023-10-16T16:14:45.482172Z",
     "iopub.status.idle": "2023-10-16T16:14:45.487075Z",
     "shell.execute_reply": "2023-10-16T16:14:45.486068Z"
    },
    "papermill": {
     "duration": 0.039277,
     "end_time": "2023-10-16T16:14:45.488884",
     "exception": false,
     "start_time": "2023-10-16T16:14:45.449607",
     "status": "completed"
    },
    "tags": []
   },
   "outputs": [],
   "source": [
    "under = RandomUnderSampler(sampling_strategy={0: 77, 1:90, 2: 78},random_state=42)"
   ]
  },
  {
   "cell_type": "code",
   "execution_count": null,
   "id": "8f38e111",
   "metadata": {
    "execution": {
     "iopub.execute_input": "2023-10-16T16:14:45.552271Z",
     "iopub.status.busy": "2023-10-16T16:14:45.551928Z",
     "iopub.status.idle": "2023-10-16T16:14:45.557695Z",
     "shell.execute_reply": "2023-10-16T16:14:45.556598Z"
    },
    "papermill": {
     "duration": 0.039767,
     "end_time": "2023-10-16T16:14:45.559539",
     "exception": false,
     "start_time": "2023-10-16T16:14:45.519772",
     "status": "completed"
    },
    "tags": []
   },
   "outputs": [],
   "source": [
    "X = data.drop(columns=['Distúrbio do sono'])\n",
    "Y = data['Distúrbio do sono']"
   ]
  },
  {
   "cell_type": "code",
   "execution_count": null,
   "id": "b8d44c14",
   "metadata": {
    "execution": {
     "iopub.execute_input": "2023-10-16T16:14:45.623381Z",
     "iopub.status.busy": "2023-10-16T16:14:45.623035Z",
     "iopub.status.idle": "2023-10-16T16:14:45.634335Z",
     "shell.execute_reply": "2023-10-16T16:14:45.633323Z"
    },
    "papermill": {
     "duration": 0.046004,
     "end_time": "2023-10-16T16:14:45.636443",
     "exception": false,
     "start_time": "2023-10-16T16:14:45.590439",
     "status": "completed"
    },
    "tags": []
   },
   "outputs": [],
   "source": [
    "Xunder , Yunder = under.fit_resample(X,Y)"
   ]
  },
  {
   "cell_type": "code",
   "execution_count": null,
   "id": "c47e6c1e",
   "metadata": {
    "execution": {
     "iopub.execute_input": "2023-10-16T16:14:45.702309Z",
     "iopub.status.busy": "2023-10-16T16:14:45.701953Z",
     "iopub.status.idle": "2023-10-16T16:14:45.803178Z",
     "shell.execute_reply": "2023-10-16T16:14:45.801641Z"
    },
    "papermill": {
     "duration": 0.139403,
     "end_time": "2023-10-16T16:14:45.806878",
     "exception": false,
     "start_time": "2023-10-16T16:14:45.667475",
     "status": "completed"
    },
    "tags": []
   },
   "outputs": [
    {
     "data": {
      "image/png": "[encoded data removed]",
      "text/plain": [
       "<Figure size 500x300 with 1 Axes>"
      ]
     },
     "metadata": {},
     "output_type": "display_data"
    }
   ],
   "source": [
    "pizza = Yunder.value_counts().reset_index().sort_values(by='Distúrbio do sono')\n",
    "plt.figure(figsize=(5,3))\n",
    "plt.pie(labels=classDisturbio.classes_, x = pizza['count'],autopct=lambda x:'{:.0f}'.format((x/100)*pizza['count'].sum()))\n",
    "plt.show()"
   ]
  },
  {
   "cell_type": "markdown",
   "id": "2f320c7e",
   "metadata": {
    "papermill": {
     "duration": 0.031224,
     "end_time": "2023-10-16T16:14:45.918354",
     "exception": false,
     "start_time": "2023-10-16T16:14:45.887130",
     "status": "completed"
    },
    "tags": []
   },
   "source": [
    "> Diminui a quantidade de dados dos valores Nulo de `219` para `90` \n",
    "\n",
    "Por que não igualou para 77 valores cada tipo de valor? Pois com Nulo:90 , Insomnia:77 , SleepApnea:80 foi onde obtive melhor resultado.   "
   ]
  },
  {
   "cell_type": "code",
   "execution_count": null,
   "id": "803e7252",
   "metadata": {
    "execution": {
     "iopub.execute_input": "2023-10-16T16:14:45.982563Z",
     "iopub.status.busy": "2023-10-16T16:14:45.982194Z",
     "iopub.status.idle": "2023-10-16T16:14:45.988994Z",
     "shell.execute_reply": "2023-10-16T16:14:45.987896Z"
    },
    "papermill": {
     "duration": 0.041682,
     "end_time": "2023-10-16T16:14:45.991006",
     "exception": false,
     "start_time": "2023-10-16T16:14:45.949324",
     "status": "completed"
    },
    "tags": []
   },
   "outputs": [],
   "source": [
    "xtrain ,xtest ,ytrain ,ytest = train_test_split(Xunder.values,Yunder.values,test_size=0.25,random_state=42)"
   ]
  },
  {
   "cell_type": "markdown",
   "id": "d29fecc4",
   "metadata": {
    "papermill": {
     "duration": 0.030768,
     "end_time": "2023-10-16T16:14:46.052981",
     "exception": false,
     "start_time": "2023-10-16T16:14:46.022213",
     "status": "completed"
    },
    "tags": []
   },
   "source": [
    "### Regressão logistica\n",
    "Definindo hyperparamentor com grisearchCv estava dando erro em virtude do multiclass e das combinações não respeitar as restrinções do sklearn para esse tipo de atributo alvo"
   ]
  },
  {
   "cell_type": "code",
   "execution_count": null,
   "id": "a2db8f69",
   "metadata": {
    "execution": {
     "iopub.execute_input": "2023-10-16T16:14:46.116880Z",
     "iopub.status.busy": "2023-10-16T16:14:46.116496Z",
     "iopub.status.idle": "2023-10-16T16:14:46.120993Z",
     "shell.execute_reply": "2023-10-16T16:14:46.119892Z"
    },
    "papermill": {
     "duration": 0.038796,
     "end_time": "2023-10-16T16:14:46.122717",
     "exception": false,
     "start_time": "2023-10-16T16:14:46.083921",
     "status": "completed"
    },
    "tags": []
   },
   "outputs": [],
   "source": [
    "logistic = LogisticRegression(max_iter=900, multi_class='multinomial')"
   ]
  },
  {
   "cell_type": "code",
   "execution_count": null,
   "id": "c5ac1c76",
   "metadata": {
    "execution": {
     "iopub.execute_input": "2023-10-16T16:14:46.187466Z",
     "iopub.status.busy": "2023-10-16T16:14:46.186474Z",
     "iopub.status.idle": "2023-10-16T16:14:46.218581Z",
     "shell.execute_reply": "2023-10-16T16:14:46.217514Z"
    },
    "papermill": {
     "duration": 0.066714,
     "end_time": "2023-10-16T16:14:46.220480",
     "exception": false,
     "start_time": "2023-10-16T16:14:46.153766",
     "status": "completed"
    },
    "tags": []
   },
   "outputs": [
    {
     "data": {
      "text/html": [
       "<style>#sk-container-id-1 {color: black;background-color: white;}#sk-container-id-1 pre{padding: 0;}#sk-container-id-1 div.sk-toggleable {background-color: white;}#sk-container-id-1 label.sk-toggleable__label {cursor: pointer;display: block;width: 100%;margin-bottom: 0;padding: 0.3em;box-sizing: border-box;text-align: center;}#sk-container-id-1 label.sk-toggleable__label-arrow:before {content: \"▸\";float: left;margin-right: 0.25em;color: #696969;}#sk-container-id-1 label.sk-toggleable__label-arrow:hover:before {color: black;}#sk-container-id-1 div.sk-estimator:hover label.sk-toggleable__label-arrow:before {color: black;}#sk-container-id-1 div.sk-toggleable__content {max-height: 0;max-width: 0;overflow: hidden;text-align: left;background-color: #f0f8ff;}#sk-container-id-1 div.sk-toggleable__content pre {margin: 0.2em;color: black;border-radius: 0.25em;background-color: #f0f8ff;}#sk-container-id-1 input.sk-toggleable__control:checked~div.sk-toggleable__content {max-height: 200px;max-width: 100%;overflow: auto;}#sk-container-id-1 input.sk-toggleable__control:checked~label.sk-toggleable__label-arrow:before {content: \"▾\";}#sk-container-id-1 div.sk-estimator input.sk-toggleable__control:checked~label.sk-toggleable__label {background-color: #d4ebff;}#sk-container-id-1 div.sk-label input.sk-toggleable__control:checked~label.sk-toggleable__label {background-color: #d4ebff;}#sk-container-id-1 input.sk-hidden--visually {border: 0;clip: rect(1px 1px 1px 1px);clip: rect(1px, 1px, 1px, 1px);height: 1px;margin: -1px;overflow: hidden;padding: 0;position: absolute;width: 1px;}#sk-container-id-1 div.sk-estimator {font-family: monospace;background-color: #f0f8ff;border: 1px dotted black;border-radius: 0.25em;box-sizing: border-box;margin-bottom: 0.5em;}#sk-container-id-1 div.sk-estimator:hover {background-color: #d4ebff;}#sk-container-id-1 div.sk-parallel-item::after {content: \"\";width: 100%;border-bottom: 1px solid gray;flex-grow: 1;}#sk-container-id-1 div.sk-label:hover label.sk-toggleable__label {background-color: #d4ebff;}#sk-container-id-1 div.sk-serial::before {content: \"\";position: absolute;border-left: 1px solid gray;box-sizing: border-box;top: 0;bottom: 0;left: 50%;z-index: 0;}#sk-container-id-1 div.sk-serial {display: flex;flex-direction: column;align-items: center;background-color: white;padding-right: 0.2em;padding-left: 0.2em;position: relative;}#sk-container-id-1 div.sk-item {position: relative;z-index: 1;}#sk-container-id-1 div.sk-parallel {display: flex;align-items: stretch;justify-content: center;background-color: white;position: relative;}#sk-container-id-1 div.sk-item::before, #sk-container-id-1 div.sk-parallel-item::before {content: \"\";position: absolute;border-left: 1px solid gray;box-sizing: border-box;top: 0;bottom: 0;left: 50%;z-index: -1;}#sk-container-id-1 div.sk-parallel-item {display: flex;flex-direction: column;z-index: 1;position: relative;background-color: white;}#sk-container-id-1 div.sk-parallel-item:first-child::after {align-self: flex-end;width: 50%;}#sk-container-id-1 div.sk-parallel-item:last-child::after {align-self: flex-start;width: 50%;}#sk-container-id-1 div.sk-parallel-item:only-child::after {width: 0;}#sk-container-id-1 div.sk-dashed-wrapped {border: 1px dashed gray;margin: 0 0.4em 0.5em 0.4em;box-sizing: border-box;padding-bottom: 0.4em;background-color: white;}#sk-container-id-1 div.sk-label label {font-family: monospace;font-weight: bold;display: inline-block;line-height: 1.2em;}#sk-container-id-1 div.sk-label-container {text-align: center;}#sk-container-id-1 div.sk-container {/* jupyter's `normalize.less` sets `[hidden] { display: none; }` but bootstrap.min.css set `[hidden] { display: none !important; }` so we also need the `!important` here to be able to override the default hidden behavior on the sphinx rendered scikit-learn.org. See: https://github.com/scikit-learn/scikit-learn/issues/21755 */display: inline-block !important;position: relative;}#sk-container-id-1 div.sk-text-repr-fallback {display: none;}</style><div id=\"sk-container-id-1\" class=\"sk-top-container\"><div class=\"sk-text-repr-fallback\"><pre>LogisticRegression(max_iter=900, multi_class=&#x27;multinomial&#x27;)</pre><b>In a Jupyter environment, please rerun this cell to show the HTML representation or trust the notebook. <br />On GitHub, the HTML representation is unable to render, please try loading this page with nbviewer.org.</b></div><div class=\"sk-container\" hidden><div class=\"sk-item\"><div class=\"sk-estimator sk-toggleable\"><input class=\"sk-toggleable__control sk-hidden--visually\" id=\"sk-estimator-id-1\" type=\"checkbox\" checked><label for=\"sk-estimator-id-1\" class=\"sk-toggleable__label sk-toggleable__label-arrow\">LogisticRegression</label><div class=\"sk-toggleable__content\"><pre>LogisticRegression(max_iter=900, multi_class=&#x27;multinomial&#x27;)</pre></div></div></div></div></div>"
      ],
      "text/plain": [
       "LogisticRegression(max_iter=900, multi_class='multinomial')"
      ]
     },
     "execution_count": 40,
     "metadata": {},
     "output_type": "execute_result"
    }
   ],
   "source": [
    "logistic.fit(xtrain,ytrain)"
   ]
  },
  {
   "cell_type": "code",
   "execution_count": null,
   "id": "d7cecfd2",
   "metadata": {
    "execution": {
     "iopub.execute_input": "2023-10-16T16:14:46.290431Z",
     "iopub.status.busy": "2023-10-16T16:14:46.289643Z",
     "iopub.status.idle": "2023-10-16T16:14:46.294700Z",
     "shell.execute_reply": "2023-10-16T16:14:46.293973Z"
    },
    "papermill": {
     "duration": 0.042548,
     "end_time": "2023-10-16T16:14:46.296711",
     "exception": false,
     "start_time": "2023-10-16T16:14:46.254163",
     "status": "completed"
    },
    "tags": []
   },
   "outputs": [],
   "source": [
    "predLogistic = logistic.predict(xtest)"
   ]
  },
  {
   "cell_type": "code",
   "execution_count": null,
   "id": "8ee4fd44",
   "metadata": {
    "execution": {
     "iopub.execute_input": "2023-10-16T16:14:46.362647Z",
     "iopub.status.busy": "2023-10-16T16:14:46.361916Z",
     "iopub.status.idle": "2023-10-16T16:14:46.645001Z",
     "shell.execute_reply": "2023-10-16T16:14:46.643929Z"
    },
    "papermill": {
     "duration": 0.318545,
     "end_time": "2023-10-16T16:14:46.647088",
     "exception": false,
     "start_time": "2023-10-16T16:14:46.328543",
     "status": "completed"
    },
    "tags": []
   },
   "outputs": [
    {
     "data": {
      "image/png": "[encoded data removed]",
      "text/plain": [
       "<Figure size 500x400 with 2 Axes>"
      ]
     },
     "metadata": {},
     "output_type": "display_data"
    }
   ],
   "source": [
    "plt.figure(figsize=(5,4))\n",
    "sea.heatmap(confusion_matrix(ytest,predLogistic),annot=True,fmt='')\n",
    "plt.title(f'accuracy_score : {accuracy_score(ytest,predLogistic)}')\n",
    "plt.show()"
   ]
  },
  {
   "cell_type": "code",
   "execution_count": null,
   "id": "4d4a226a",
   "metadata": {
    "execution": {
     "iopub.execute_input": "2023-10-16T16:14:46.713712Z",
     "iopub.status.busy": "2023-10-16T16:14:46.713309Z",
     "iopub.status.idle": "2023-10-16T16:14:46.724853Z",
     "shell.execute_reply": "2023-10-16T16:14:46.723748Z"
    },
    "papermill": {
     "duration": 0.047439,
     "end_time": "2023-10-16T16:14:46.726828",
     "exception": false,
     "start_time": "2023-10-16T16:14:46.679389",
     "status": "completed"
    },
    "tags": []
   },
   "outputs": [
    {
     "name": "stdout",
     "output_type": "stream",
     "text": [
      "              precision    recall  f1-score   support\n",
      "\n",
      "           0       0.89      0.89      0.89        19\n",
      "           1       0.95      0.88      0.91        24\n",
      "           2       0.90      1.00      0.95        19\n",
      "\n",
      "    accuracy                           0.92        62\n",
      "   macro avg       0.92      0.92      0.92        62\n",
      "weighted avg       0.92      0.92      0.92        62\n",
      "\n"
     ]
    }
   ],
   "source": [
    "print(classification_report(ytest,predLogistic))"
   ]
  },
  {
   "cell_type": "code",
   "execution_count": null,
   "id": "0f0a5a12",
   "metadata": {
    "execution": {
     "iopub.execute_input": "2023-10-16T16:14:46.792922Z",
     "iopub.status.busy": "2023-10-16T16:14:46.792524Z",
     "iopub.status.idle": "2023-10-16T16:14:46.800326Z",
     "shell.execute_reply": "2023-10-16T16:14:46.799583Z"
    },
    "papermill": {
     "duration": 0.04336,
     "end_time": "2023-10-16T16:14:46.802225",
     "exception": false,
     "start_time": "2023-10-16T16:14:46.758865",
     "status": "completed"
    },
    "tags": []
   },
   "outputs": [
    {
     "data": {
      "text/plain": [
       "0.9192601067887108"
      ]
     },
     "execution_count": 44,
     "metadata": {},
     "output_type": "execute_result"
    }
   ],
   "source": [
    "f1_score(ytest, predLogistic, average='macro')"
   ]
  },
  {
   "cell_type": "code",
   "execution_count": null,
   "id": "fcfa188f",
   "metadata": {
    "execution": {
     "iopub.execute_input": "2023-10-16T16:14:46.870846Z",
     "iopub.status.busy": "2023-10-16T16:14:46.870460Z",
     "iopub.status.idle": "2023-10-16T16:14:46.988604Z",
     "shell.execute_reply": "2023-10-16T16:14:46.987532Z"
    },
    "papermill": {
     "duration": 0.15647,
     "end_time": "2023-10-16T16:14:46.990772",
     "exception": false,
     "start_time": "2023-10-16T16:14:46.834302",
     "status": "completed"
    },
    "tags": []
   },
   "outputs": [
    {
     "name": "stdout",
     "output_type": "stream",
     "text": [
      "Fold 0\n",
      "accuracy_score   :  0.8933333333333333\n",
      "Fold 1\n",
      "accuracy_score   :  0.9066666666666666\n",
      "Fold 2\n",
      "accuracy_score   :  0.8666666666666667\n",
      "Fold 3\n",
      "accuracy_score   :  0.8933333333333333\n",
      "Fold 4\n",
      "accuracy_score   :  0.8918918918918919\n"
     ]
    }
   ],
   "source": [
    "fold = KFold(n_splits=5,shuffle=True,random_state=25)\n",
    "for i , (train_index, test_index) in enumerate(fold.split(X)):\n",
    "   \n",
    "    xtrainf , xtestf = X.iloc[train_index], X.iloc[test_index] \n",
    "    ytrainf , ytestf = Y.iloc[train_index], Y.iloc[test_index]\n",
    "   \n",
    "    print(f'Fold {i}')\n",
    "    pred = logistic.fit(xtrainf,ytrainf).predict(xtestf)\n",
    "    print('accuracy_score   : ',accuracy_score(ytestf,pred))"
   ]
  },
  {
   "cell_type": "code",
   "execution_count": null,
   "id": "1fd95804",
   "metadata": {
    "execution": {
     "iopub.execute_input": "2023-10-16T16:14:47.058855Z",
     "iopub.status.busy": "2023-10-16T16:14:47.057826Z",
     "iopub.status.idle": "2023-10-16T16:14:47.272525Z",
     "shell.execute_reply": "2023-10-16T16:14:47.271338Z"
    },
    "papermill": {
     "duration": 0.250723,
     "end_time": "2023-10-16T16:14:47.274587",
     "exception": false,
     "start_time": "2023-10-16T16:14:47.023864",
     "status": "completed"
    },
    "tags": []
   },
   "outputs": [
    {
     "name": "stdout",
     "output_type": "stream",
     "text": [
      "[0.85333333 0.84       0.90666667 0.88       0.54054054]\n",
      "Media : 0.8041081081081082\n"
     ]
    }
   ],
   "source": [
    "fold = KFold(n_splits=5)\n",
    "\n",
    "print(cross_val_score(logistic,X,Y,cv=fold))\n",
    "print('Media :',cross_val_score(logistic,X,Y,cv=fold).mean())"
   ]
  },
  {
   "cell_type": "markdown",
   "id": "b2457b93",
   "metadata": {
    "papermill": {
     "duration": 0.032254,
     "end_time": "2023-10-16T16:14:47.340106",
     "exception": false,
     "start_time": "2023-10-16T16:14:47.307852",
     "status": "completed"
    },
    "tags": []
   },
   "source": [
    "&nbsp;"
   ]
  },
  {
   "cell_type": "markdown",
   "id": "1765f328",
   "metadata": {
    "papermill": {
     "duration": 0.032486,
     "end_time": "2023-10-16T16:14:47.405708",
     "exception": false,
     "start_time": "2023-10-16T16:14:47.373222",
     "status": "completed"
    },
    "tags": []
   },
   "source": [
    "### KNN"
   ]
  },
  {
   "cell_type": "code",
   "execution_count": null,
   "id": "f4e0ed29",
   "metadata": {
    "execution": {
     "iopub.execute_input": "2023-10-16T16:14:47.473606Z",
     "iopub.status.busy": "2023-10-16T16:14:47.472745Z",
     "iopub.status.idle": "2023-10-16T16:14:47.478316Z",
     "shell.execute_reply": "2023-10-16T16:14:47.477350Z"
    },
    "papermill": {
     "duration": 0.041949,
     "end_time": "2023-10-16T16:14:47.480229",
     "exception": false,
     "start_time": "2023-10-16T16:14:47.438280",
     "status": "completed"
    },
    "tags": []
   },
   "outputs": [],
   "source": [
    "params = {\n",
    "    'n_neighbors': [5,7,10,15],\n",
    "    'weights': ['uniform', 'distance'] ,\n",
    "    'algorithm':['auto', 'ball_tree', 'kd_tree', 'brute'] ,\n",
    "    'leaf_size': [30,50,70],\n",
    "    'p':[2,3,5,8]\n",
    "    }\n",
    "\n",
    "gridKnn = GridSearchCV(\n",
    "    estimator = KNeighborsClassifier(),\n",
    "    param_grid= params,\n",
    "    scoring='accuracy',\n",
    ")"
   ]
  },
  {
   "cell_type": "code",
   "execution_count": null,
   "id": "475a662c",
   "metadata": {
    "execution": {
     "iopub.execute_input": "2023-10-16T16:14:47.547676Z",
     "iopub.status.busy": "2023-10-16T16:14:47.547282Z",
     "iopub.status.idle": "2023-10-16T16:14:57.967981Z",
     "shell.execute_reply": "2023-10-16T16:14:57.967148Z"
    },
    "papermill": {
     "duration": 10.456976,
     "end_time": "2023-10-16T16:14:57.970059",
     "exception": false,
     "start_time": "2023-10-16T16:14:47.513083",
     "status": "completed"
    },
    "tags": []
   },
   "outputs": [
    {
     "data": {
      "text/html": [
       "<style>#sk-container-id-2 {color: black;background-color: white;}#sk-container-id-2 pre{padding: 0;}#sk-container-id-2 div.sk-toggleable {background-color: white;}#sk-container-id-2 label.sk-toggleable__label {cursor: pointer;display: block;width: 100%;margin-bottom: 0;padding: 0.3em;box-sizing: border-box;text-align: center;}#sk-container-id-2 label.sk-toggleable__label-arrow:before {content: \"▸\";float: left;margin-right: 0.25em;color: #696969;}#sk-container-id-2 label.sk-toggleable__label-arrow:hover:before {color: black;}#sk-container-id-2 div.sk-estimator:hover label.sk-toggleable__label-arrow:before {color: black;}#sk-container-id-2 div.sk-toggleable__content {max-height: 0;max-width: 0;overflow: hidden;text-align: left;background-color: #f0f8ff;}#sk-container-id-2 div.sk-toggleable__content pre {margin: 0.2em;color: black;border-radius: 0.25em;background-color: #f0f8ff;}#sk-container-id-2 input.sk-toggleable__control:checked~div.sk-toggleable__content {max-height: 200px;max-width: 100%;overflow: auto;}#sk-container-id-2 input.sk-toggleable__control:checked~label.sk-toggleable__label-arrow:before {content: \"▾\";}#sk-container-id-2 div.sk-estimator input.sk-toggleable__control:checked~label.sk-toggleable__label {background-color: #d4ebff;}#sk-container-id-2 div.sk-label input.sk-toggleable__control:checked~label.sk-toggleable__label {background-color: #d4ebff;}#sk-container-id-2 input.sk-hidden--visually {border: 0;clip: rect(1px 1px 1px 1px);clip: rect(1px, 1px, 1px, 1px);height: 1px;margin: -1px;overflow: hidden;padding: 0;position: absolute;width: 1px;}#sk-container-id-2 div.sk-estimator {font-family: monospace;background-color: #f0f8ff;border: 1px dotted black;border-radius: 0.25em;box-sizing: border-box;margin-bottom: 0.5em;}#sk-container-id-2 div.sk-estimator:hover {background-color: #d4ebff;}#sk-container-id-2 div.sk-parallel-item::after {content: \"\";width: 100%;border-bottom: 1px solid gray;flex-grow: 1;}#sk-container-id-2 div.sk-label:hover label.sk-toggleable__label {background-color: #d4ebff;}#sk-container-id-2 div.sk-serial::before {content: \"\";position: absolute;border-left: 1px solid gray;box-sizing: border-box;top: 0;bottom: 0;left: 50%;z-index: 0;}#sk-container-id-2 div.sk-serial {display: flex;flex-direction: column;align-items: center;background-color: white;padding-right: 0.2em;padding-left: 0.2em;position: relative;}#sk-container-id-2 div.sk-item {position: relative;z-index: 1;}#sk-container-id-2 div.sk-parallel {display: flex;align-items: stretch;justify-content: center;background-color: white;position: relative;}#sk-container-id-2 div.sk-item::before, #sk-container-id-2 div.sk-parallel-item::before {content: \"\";position: absolute;border-left: 1px solid gray;box-sizing: border-box;top: 0;bottom: 0;left: 50%;z-index: -1;}#sk-container-id-2 div.sk-parallel-item {display: flex;flex-direction: column;z-index: 1;position: relative;background-color: white;}#sk-container-id-2 div.sk-parallel-item:first-child::after {align-self: flex-end;width: 50%;}#sk-container-id-2 div.sk-parallel-item:last-child::after {align-self: flex-start;width: 50%;}#sk-container-id-2 div.sk-parallel-item:only-child::after {width: 0;}#sk-container-id-2 div.sk-dashed-wrapped {border: 1px dashed gray;margin: 0 0.4em 0.5em 0.4em;box-sizing: border-box;padding-bottom: 0.4em;background-color: white;}#sk-container-id-2 div.sk-label label {font-family: monospace;font-weight: bold;display: inline-block;line-height: 1.2em;}#sk-container-id-2 div.sk-label-container {text-align: center;}#sk-container-id-2 div.sk-container {/* jupyter's `normalize.less` sets `[hidden] { display: none; }` but bootstrap.min.css set `[hidden] { display: none !important; }` so we also need the `!important` here to be able to override the default hidden behavior on the sphinx rendered scikit-learn.org. See: https://github.com/scikit-learn/scikit-learn/issues/21755 */display: inline-block !important;position: relative;}#sk-container-id-2 div.sk-text-repr-fallback {display: none;}</style><div id=\"sk-container-id-2\" class=\"sk-top-container\"><div class=\"sk-text-repr-fallback\"><pre>GridSearchCV(estimator=KNeighborsClassifier(),\n",
       "             param_grid={&#x27;algorithm&#x27;: [&#x27;auto&#x27;, &#x27;ball_tree&#x27;, &#x27;kd_tree&#x27;, &#x27;brute&#x27;],\n",
       "                         &#x27;leaf_size&#x27;: [30, 50, 70],\n",
       "                         &#x27;n_neighbors&#x27;: [5, 7, 10, 15], &#x27;p&#x27;: [2, 3, 5, 8],\n",
       "                         &#x27;weights&#x27;: [&#x27;uniform&#x27;, &#x27;distance&#x27;]},\n",
       "             scoring=&#x27;accuracy&#x27;)</pre><b>In a Jupyter environment, please rerun this cell to show the HTML representation or trust the notebook. <br />On GitHub, the HTML representation is unable to render, please try loading this page with nbviewer.org.</b></div><div class=\"sk-container\" hidden><div class=\"sk-item sk-dashed-wrapped\"><div class=\"sk-label-container\"><div class=\"sk-label sk-toggleable\"><input class=\"sk-toggleable__control sk-hidden--visually\" id=\"sk-estimator-id-2\" type=\"checkbox\" ><label for=\"sk-estimator-id-2\" class=\"sk-toggleable__label sk-toggleable__label-arrow\">GridSearchCV</label><div class=\"sk-toggleable__content\"><pre>GridSearchCV(estimator=KNeighborsClassifier(),\n",
       "             param_grid={&#x27;algorithm&#x27;: [&#x27;auto&#x27;, &#x27;ball_tree&#x27;, &#x27;kd_tree&#x27;, &#x27;brute&#x27;],\n",
       "                         &#x27;leaf_size&#x27;: [30, 50, 70],\n",
       "                         &#x27;n_neighbors&#x27;: [5, 7, 10, 15], &#x27;p&#x27;: [2, 3, 5, 8],\n",
       "                         &#x27;weights&#x27;: [&#x27;uniform&#x27;, &#x27;distance&#x27;]},\n",
       "             scoring=&#x27;accuracy&#x27;)</pre></div></div></div><div class=\"sk-parallel\"><div class=\"sk-parallel-item\"><div class=\"sk-item\"><div class=\"sk-label-container\"><div class=\"sk-label sk-toggleable\"><input class=\"sk-toggleable__control sk-hidden--visually\" id=\"sk-estimator-id-3\" type=\"checkbox\" ><label for=\"sk-estimator-id-3\" class=\"sk-toggleable__label sk-toggleable__label-arrow\">estimator: KNeighborsClassifier</label><div class=\"sk-toggleable__content\"><pre>KNeighborsClassifier()</pre></div></div></div><div class=\"sk-serial\"><div class=\"sk-item\"><div class=\"sk-estimator sk-toggleable\"><input class=\"sk-toggleable__control sk-hidden--visually\" id=\"sk-estimator-id-4\" type=\"checkbox\" ><label for=\"sk-estimator-id-4\" class=\"sk-toggleable__label sk-toggleable__label-arrow\">KNeighborsClassifier</label><div class=\"sk-toggleable__content\"><pre>KNeighborsClassifier()</pre></div></div></div></div></div></div></div></div></div></div>"
      ],
      "text/plain": [
       "GridSearchCV(estimator=KNeighborsClassifier(),\n",
       "             param_grid={'algorithm': ['auto', 'ball_tree', 'kd_tree', 'brute'],\n",
       "                         'leaf_size': [30, 50, 70],\n",
       "                         'n_neighbors': [5, 7, 10, 15], 'p': [2, 3, 5, 8],\n",
       "                         'weights': ['uniform', 'distance']},\n",
       "             scoring='accuracy')"
      ]
     },
     "execution_count": 48,
     "metadata": {},
     "output_type": "execute_result"
    }
   ],
   "source": [
    "gridKnn.fit(xtrain,ytrain)"
   ]
  },
  {
   "cell_type": "code",
   "execution_count": null,
   "id": "9ca0c65d",
   "metadata": {
    "execution": {
     "iopub.execute_input": "2023-10-16T16:14:58.039487Z",
     "iopub.status.busy": "2023-10-16T16:14:58.039084Z",
     "iopub.status.idle": "2023-10-16T16:14:58.045004Z",
     "shell.execute_reply": "2023-10-16T16:14:58.043891Z"
    },
    "papermill": {
     "duration": 0.042351,
     "end_time": "2023-10-16T16:14:58.046809",
     "exception": false,
     "start_time": "2023-10-16T16:14:58.004458",
     "status": "completed"
    },
    "tags": []
   },
   "outputs": [
    {
     "name": "stdout",
     "output_type": "stream",
     "text": [
      "Melhor estimador : \n",
      " KNeighborsClassifier(n_neighbors=7, p=3)\n",
      "\n",
      "Melhor parametro :\n",
      " {'algorithm': 'auto', 'leaf_size': 30, 'n_neighbors': 7, 'p': 3, 'weights': 'uniform'}\n"
     ]
    }
   ],
   "source": [
    "print('Melhor estimador : \\n',gridKnn.best_estimator_)\n",
    "print()\n",
    "print(\"Melhor parametro :\\n\",gridKnn.best_params_)"
   ]
  },
  {
   "cell_type": "code",
   "execution_count": null,
   "id": "2f1a2e82",
   "metadata": {
    "execution": {
     "iopub.execute_input": "2023-10-16T16:14:58.114182Z",
     "iopub.status.busy": "2023-10-16T16:14:58.113186Z",
     "iopub.status.idle": "2023-10-16T16:14:58.117390Z",
     "shell.execute_reply": "2023-10-16T16:14:58.116690Z"
    },
    "papermill": {
     "duration": 0.039596,
     "end_time": "2023-10-16T16:14:58.119019",
     "exception": false,
     "start_time": "2023-10-16T16:14:58.079423",
     "status": "completed"
    },
    "tags": []
   },
   "outputs": [],
   "source": [
    "knn = KNeighborsClassifier(n_neighbors=7, p=3)"
   ]
  },
  {
   "cell_type": "code",
   "execution_count": null,
   "id": "653c0432",
   "metadata": {
    "execution": {
     "iopub.execute_input": "2023-10-16T16:14:58.186862Z",
     "iopub.status.busy": "2023-10-16T16:14:58.185919Z",
     "iopub.status.idle": "2023-10-16T16:14:58.204709Z",
     "shell.execute_reply": "2023-10-16T16:14:58.203900Z"
    },
    "papermill": {
     "duration": 0.055196,
     "end_time": "2023-10-16T16:14:58.207155",
     "exception": false,
     "start_time": "2023-10-16T16:14:58.151959",
     "status": "completed"
    },
    "tags": []
   },
   "outputs": [],
   "source": [
    "knn.fit(xtrain,ytrain)\n",
    "predKnn = knn.predict(xtest)"
   ]
  },
  {
   "cell_type": "code",
   "execution_count": null,
   "id": "e012a54a",
   "metadata": {
    "execution": {
     "iopub.execute_input": "2023-10-16T16:14:58.278849Z",
     "iopub.status.busy": "2023-10-16T16:14:58.278461Z",
     "iopub.status.idle": "2023-10-16T16:14:58.562049Z",
     "shell.execute_reply": "2023-10-16T16:14:58.560966Z"
    },
    "papermill": {
     "duration": 0.321289,
     "end_time": "2023-10-16T16:14:58.564361",
     "exception": false,
     "start_time": "2023-10-16T16:14:58.243072",
     "status": "completed"
    },
    "tags": []
   },
   "outputs": [
    {
     "data": {
      "image/png": "[encoded data removed]",
      "text/plain": [
       "<Figure size 500x400 with 2 Axes>"
      ]
     },
     "metadata": {},
     "output_type": "display_data"
    }
   ],
   "source": [
    "plt.figure(figsize=(5,4))\n",
    "sea.heatmap(confusion_matrix(ytest,predKnn),annot=True,fmt='')\n",
    "plt.title(f'accuracy_score : {accuracy_score(ytest,predKnn)}')\n",
    "plt.show()"
   ]
  },
  {
   "cell_type": "code",
   "execution_count": null,
   "id": "d28d3d53",
   "metadata": {
    "execution": {
     "iopub.execute_input": "2023-10-16T16:14:58.634972Z",
     "iopub.status.busy": "2023-10-16T16:14:58.634588Z",
     "iopub.status.idle": "2023-10-16T16:14:58.648041Z",
     "shell.execute_reply": "2023-10-16T16:14:58.646678Z"
    },
    "papermill": {
     "duration": 0.051091,
     "end_time": "2023-10-16T16:14:58.650164",
     "exception": false,
     "start_time": "2023-10-16T16:14:58.599073",
     "status": "completed"
    },
    "tags": []
   },
   "outputs": [
    {
     "name": "stdout",
     "output_type": "stream",
     "text": [
      "              precision    recall  f1-score   support\n",
      "\n",
      "           0       0.89      0.84      0.86        19\n",
      "           1       0.91      0.88      0.89        24\n",
      "           2       0.86      0.95      0.90        19\n",
      "\n",
      "    accuracy                           0.89        62\n",
      "   macro avg       0.89      0.89      0.89        62\n",
      "weighted avg       0.89      0.89      0.89        62\n",
      "\n"
     ]
    }
   ],
   "source": [
    "print(classification_report(ytest,predKnn))"
   ]
  },
  {
   "cell_type": "code",
   "execution_count": null,
   "id": "82cc7495",
   "metadata": {
    "execution": {
     "iopub.execute_input": "2023-10-16T16:14:58.720576Z",
     "iopub.status.busy": "2023-10-16T16:14:58.720179Z",
     "iopub.status.idle": "2023-10-16T16:14:58.730103Z",
     "shell.execute_reply": "2023-10-16T16:14:58.729115Z"
    },
    "papermill": {
     "duration": 0.047608,
     "end_time": "2023-10-16T16:14:58.732026",
     "exception": false,
     "start_time": "2023-10-16T16:14:58.684418",
     "status": "completed"
    },
    "tags": []
   },
   "outputs": [
    {
     "data": {
      "text/plain": [
       "0.8861606287138203"
      ]
     },
     "execution_count": 54,
     "metadata": {},
     "output_type": "execute_result"
    }
   ],
   "source": [
    "f1_score(ytest, predKnn, average='macro')"
   ]
  },
  {
   "cell_type": "code",
   "execution_count": null,
   "id": "dd680369",
   "metadata": {
    "execution": {
     "iopub.execute_input": "2023-10-16T16:14:58.806815Z",
     "iopub.status.busy": "2023-10-16T16:14:58.805727Z",
     "iopub.status.idle": "2023-10-16T16:14:59.072178Z",
     "shell.execute_reply": "2023-10-16T16:14:59.071349Z"
    },
    "papermill": {
     "duration": 0.307524,
     "end_time": "2023-10-16T16:14:59.073972",
     "exception": false,
     "start_time": "2023-10-16T16:14:58.766448",
     "status": "completed"
    },
    "tags": []
   },
   "outputs": [
    {
     "name": "stdout",
     "output_type": "stream",
     "text": [
      "[0.78947368 0.89473684 0.76315789 0.92105263 0.86486486 0.89189189\n",
      " 0.89189189 0.81081081 0.81081081 0.91891892]\n",
      "Média :  0.8557610241820768\n"
     ]
    }
   ],
   "source": [
    "fold = KFold(n_splits=10)\n",
    "print(cross_val_score(knn,X,Y,cv=fold))\n",
    "print('Média : ',cross_val_score(knn,X,Y,cv=fold).mean())"
   ]
  },
  {
   "cell_type": "markdown",
   "id": "54194b9b",
   "metadata": {
    "papermill": {
     "duration": 0.034854,
     "end_time": "2023-10-16T16:14:59.142320",
     "exception": false,
     "start_time": "2023-10-16T16:14:59.107466",
     "status": "completed"
    },
    "tags": []
   },
   "source": [
    "&nbsp;"
   ]
  },
  {
   "cell_type": "markdown",
   "id": "c7e954b4",
   "metadata": {
    "papermill": {
     "duration": 0.035497,
     "end_time": "2023-10-16T16:14:59.212706",
     "exception": false,
     "start_time": "2023-10-16T16:14:59.177209",
     "status": "completed"
    },
    "tags": []
   },
   "source": [
    "### Bernouf1_score(ytest, predLogistic, average='macro')fold = KFold(n_splits=10,shuffle=True,random_state=25)fold = KFold(n_splits=10,shuffle=True,random_state=25)lli"
   ]
  },
  {
   "cell_type": "code",
   "execution_count": null,
   "id": "51970d44",
   "metadata": {
    "execution": {
     "iopub.execute_input": "2023-10-16T16:14:59.283984Z",
     "iopub.status.busy": "2023-10-16T16:14:59.282838Z",
     "iopub.status.idle": "2023-10-16T16:14:59.288379Z",
     "shell.execute_reply": "2023-10-16T16:14:59.287705Z"
    },
    "papermill": {
     "duration": 0.043404,
     "end_time": "2023-10-16T16:14:59.290269",
     "exception": false,
     "start_time": "2023-10-16T16:14:59.246865",
     "status": "completed"
    },
    "tags": []
   },
   "outputs": [],
   "source": [
    "params = {\n",
    "    'alpha':[1,2,3,4,5],\n",
    "    'fit_prior': [True],\n",
    "}\n",
    "gridBernoulli = GridSearchCV(\n",
    "    estimator = BernoulliNB(),\n",
    "    param_grid= params,\n",
    "    scoring   = 'accuracy'\n",
    ")"
   ]
  },
  {
   "cell_type": "code",
   "execution_count": null,
   "id": "54c21e64",
   "metadata": {
    "execution": {
     "iopub.execute_input": "2023-10-16T16:14:59.360633Z",
     "iopub.status.busy": "2023-10-16T16:14:59.359645Z",
     "iopub.status.idle": "2023-10-16T16:14:59.423545Z",
     "shell.execute_reply": "2023-10-16T16:14:59.422443Z"
    },
    "papermill": {
     "duration": 0.101299,
     "end_time": "2023-10-16T16:14:59.425546",
     "exception": false,
     "start_time": "2023-10-16T16:14:59.324247",
     "status": "completed"
    },
    "tags": []
   },
   "outputs": [
    {
     "data": {
      "text/html": [
       "<style>#sk-container-id-3 {color: black;background-color: white;}#sk-container-id-3 pre{padding: 0;}#sk-container-id-3 div.sk-toggleable {background-color: white;}#sk-container-id-3 label.sk-toggleable__label {cursor: pointer;display: block;width: 100%;margin-bottom: 0;padding: 0.3em;box-sizing: border-box;text-align: center;}#sk-container-id-3 label.sk-toggleable__label-arrow:before {content: \"▸\";float: left;margin-right: 0.25em;color: #696969;}#sk-container-id-3 label.sk-toggleable__label-arrow:hover:before {color: black;}#sk-container-id-3 div.sk-estimator:hover label.sk-toggleable__label-arrow:before {color: black;}#sk-container-id-3 div.sk-toggleable__content {max-height: 0;max-width: 0;overflow: hidden;text-align: left;background-color: #f0f8ff;}#sk-container-id-3 div.sk-toggleable__content pre {margin: 0.2em;color: black;border-radius: 0.25em;background-color: #f0f8ff;}#sk-container-id-3 input.sk-toggleable__control:checked~div.sk-toggleable__content {max-height: 200px;max-width: 100%;overflow: auto;}#sk-container-id-3 input.sk-toggleable__control:checked~label.sk-toggleable__label-arrow:before {content: \"▾\";}#sk-container-id-3 div.sk-estimator input.sk-toggleable__control:checked~label.sk-toggleable__label {background-color: #d4ebff;}#sk-container-id-3 div.sk-label input.sk-toggleable__control:checked~label.sk-toggleable__label {background-color: #d4ebff;}#sk-container-id-3 input.sk-hidden--visually {border: 0;clip: rect(1px 1px 1px 1px);clip: rect(1px, 1px, 1px, 1px);height: 1px;margin: -1px;overflow: hidden;padding: 0;position: absolute;width: 1px;}#sk-container-id-3 div.sk-estimator {font-family: monospace;background-color: #f0f8ff;border: 1px dotted black;border-radius: 0.25em;box-sizing: border-box;margin-bottom: 0.5em;}#sk-container-id-3 div.sk-estimator:hover {background-color: #d4ebff;}#sk-container-id-3 div.sk-parallel-item::after {content: \"\";width: 100%;border-bottom: 1px solid gray;flex-grow: 1;}#sk-container-id-3 div.sk-label:hover label.sk-toggleable__label {background-color: #d4ebff;}#sk-container-id-3 div.sk-serial::before {content: \"\";position: absolute;border-left: 1px solid gray;box-sizing: border-box;top: 0;bottom: 0;left: 50%;z-index: 0;}#sk-container-id-3 div.sk-serial {display: flex;flex-direction: column;align-items: center;background-color: white;padding-right: 0.2em;padding-left: 0.2em;position: relative;}#sk-container-id-3 div.sk-item {position: relative;z-index: 1;}#sk-container-id-3 div.sk-parallel {display: flex;align-items: stretch;justify-content: center;background-color: white;position: relative;}#sk-container-id-3 div.sk-item::before, #sk-container-id-3 div.sk-parallel-item::before {content: \"\";position: absolute;border-left: 1px solid gray;box-sizing: border-box;top: 0;bottom: 0;left: 50%;z-index: -1;}#sk-container-id-3 div.sk-parallel-item {display: flex;flex-direction: column;z-index: 1;position: relative;background-color: white;}#sk-container-id-3 div.sk-parallel-item:first-child::after {align-self: flex-end;width: 50%;}#sk-container-id-3 div.sk-parallel-item:last-child::after {align-self: flex-start;width: 50%;}#sk-container-id-3 div.sk-parallel-item:only-child::after {width: 0;}#sk-container-id-3 div.sk-dashed-wrapped {border: 1px dashed gray;margin: 0 0.4em 0.5em 0.4em;box-sizing: border-box;padding-bottom: 0.4em;background-color: white;}#sk-container-id-3 div.sk-label label {font-family: monospace;font-weight: bold;display: inline-block;line-height: 1.2em;}#sk-container-id-3 div.sk-label-container {text-align: center;}#sk-container-id-3 div.sk-container {/* jupyter's `normalize.less` sets `[hidden] { display: none; }` but bootstrap.min.css set `[hidden] { display: none !important; }` so we also need the `!important` here to be able to override the default hidden behavior on the sphinx rendered scikit-learn.org. See: https://github.com/scikit-learn/scikit-learn/issues/21755 */display: inline-block !important;position: relative;}#sk-container-id-3 div.sk-text-repr-fallback {display: none;}</style><div id=\"sk-container-id-3\" class=\"sk-top-container\"><div class=\"sk-text-repr-fallback\"><pre>GridSearchCV(estimator=BernoulliNB(),\n",
       "             param_grid={&#x27;alpha&#x27;: [1, 2, 3, 4, 5], &#x27;fit_prior&#x27;: [True]},\n",
       "             scoring=&#x27;accuracy&#x27;)</pre><b>In a Jupyter environment, please rerun this cell to show the HTML representation or trust the notebook. <br />On GitHub, the HTML representation is unable to render, please try loading this page with nbviewer.org.</b></div><div class=\"sk-container\" hidden><div class=\"sk-item sk-dashed-wrapped\"><div class=\"sk-label-container\"><div class=\"sk-label sk-toggleable\"><input class=\"sk-toggleable__control sk-hidden--visually\" id=\"sk-estimator-id-5\" type=\"checkbox\" ><label for=\"sk-estimator-id-5\" class=\"sk-toggleable__label sk-toggleable__label-arrow\">GridSearchCV</label><div class=\"sk-toggleable__content\"><pre>GridSearchCV(estimator=BernoulliNB(),\n",
       "             param_grid={&#x27;alpha&#x27;: [1, 2, 3, 4, 5], &#x27;fit_prior&#x27;: [True]},\n",
       "             scoring=&#x27;accuracy&#x27;)</pre></div></div></div><div class=\"sk-parallel\"><div class=\"sk-parallel-item\"><div class=\"sk-item\"><div class=\"sk-label-container\"><div class=\"sk-label sk-toggleable\"><input class=\"sk-toggleable__control sk-hidden--visually\" id=\"sk-estimator-id-6\" type=\"checkbox\" ><label for=\"sk-estimator-id-6\" class=\"sk-toggleable__label sk-toggleable__label-arrow\">estimator: BernoulliNB</label><div class=\"sk-toggleable__content\"><pre>BernoulliNB()</pre></div></div></div><div class=\"sk-serial\"><div class=\"sk-item\"><div class=\"sk-estimator sk-toggleable\"><input class=\"sk-toggleable__control sk-hidden--visually\" id=\"sk-estimator-id-7\" type=\"checkbox\" ><label for=\"sk-estimator-id-7\" class=\"sk-toggleable__label sk-toggleable__label-arrow\">BernoulliNB</label><div class=\"sk-toggleable__content\"><pre>BernoulliNB()</pre></div></div></div></div></div></div></div></div></div></div>"
      ],
      "text/plain": [
       "GridSearchCV(estimator=BernoulliNB(),\n",
       "             param_grid={'alpha': [1, 2, 3, 4, 5], 'fit_prior': [True]},\n",
       "             scoring='accuracy')"
      ]
     },
     "execution_count": 57,
     "metadata": {},
     "output_type": "execute_result"
    }
   ],
   "source": [
    "gridBernoulli.fit(xtrain,ytrain)"
   ]
  },
  {
   "cell_type": "code",
   "execution_count": null,
   "id": "b0d7390a",
   "metadata": {
    "execution": {
     "iopub.execute_input": "2023-10-16T16:14:59.496372Z",
     "iopub.status.busy": "2023-10-16T16:14:59.495575Z",
     "iopub.status.idle": "2023-10-16T16:14:59.501351Z",
     "shell.execute_reply": "2023-10-16T16:14:59.500311Z"
    },
    "papermill": {
     "duration": 0.04313,
     "end_time": "2023-10-16T16:14:59.503196",
     "exception": false,
     "start_time": "2023-10-16T16:14:59.460066",
     "status": "completed"
    },
    "tags": []
   },
   "outputs": [
    {
     "name": "stdout",
     "output_type": "stream",
     "text": [
      "Melhor estimador : \n",
      " BernoulliNB(alpha=2)\n",
      "\n",
      "Melhor parametro :\n",
      " {'alpha': 2, 'fit_prior': True}\n"
     ]
    }
   ],
   "source": [
    "print('Melhor estimador : \\n',gridBernoulli.best_estimator_)\n",
    "print()\n",
    "print(\"Melhor parametro :\\n\",gridBernoulli.best_params_)"
   ]
  },
  {
   "cell_type": "code",
   "execution_count": null,
   "id": "60ed5b1e",
   "metadata": {
    "execution": {
     "iopub.execute_input": "2023-10-16T16:14:59.573958Z",
     "iopub.status.busy": "2023-10-16T16:14:59.573186Z",
     "iopub.status.idle": "2023-10-16T16:14:59.579014Z",
     "shell.execute_reply": "2023-10-16T16:14:59.578192Z"
    },
    "papermill": {
     "duration": 0.043117,
     "end_time": "2023-10-16T16:14:59.580738",
     "exception": false,
     "start_time": "2023-10-16T16:14:59.537621",
     "status": "completed"
    },
    "tags": []
   },
   "outputs": [
    {
     "data": {
      "text/plain": [
       "0.8253753753753752"
      ]
     },
     "execution_count": 59,
     "metadata": {},
     "output_type": "execute_result"
    }
   ],
   "source": [
    "gridBernoulli.best_score_"
   ]
  },
  {
   "cell_type": "code",
   "execution_count": null,
   "id": "fe31b8e2",
   "metadata": {
    "execution": {
     "iopub.execute_input": "2023-10-16T16:14:59.651302Z",
     "iopub.status.busy": "2023-10-16T16:14:59.650329Z",
     "iopub.status.idle": "2023-10-16T16:14:59.655081Z",
     "shell.execute_reply": "2023-10-16T16:14:59.654383Z"
    },
    "papermill": {
     "duration": 0.042201,
     "end_time": "2023-10-16T16:14:59.656790",
     "exception": false,
     "start_time": "2023-10-16T16:14:59.614589",
     "status": "completed"
    },
    "tags": []
   },
   "outputs": [],
   "source": [
    "bernoulli = BernoulliNB(alpha=2)"
   ]
  },
  {
   "cell_type": "code",
   "execution_count": null,
   "id": "5772f08b",
   "metadata": {
    "execution": {
     "iopub.execute_input": "2023-10-16T16:14:59.727107Z",
     "iopub.status.busy": "2023-10-16T16:14:59.726487Z",
     "iopub.status.idle": "2023-10-16T16:14:59.732964Z",
     "shell.execute_reply": "2023-10-16T16:14:59.732257Z"
    },
    "papermill": {
     "duration": 0.043998,
     "end_time": "2023-10-16T16:14:59.734785",
     "exception": false,
     "start_time": "2023-10-16T16:14:59.690787",
     "status": "completed"
    },
    "tags": []
   },
   "outputs": [],
   "source": [
    "bernoulli.fit(xtrain,ytrain)\n",
    "predBernouli = bernoulli.predict(xtest)"
   ]
  },
  {
   "cell_type": "code",
   "execution_count": null,
   "id": "b14c022c",
   "metadata": {
    "execution": {
     "iopub.execute_input": "2023-10-16T16:14:59.803893Z",
     "iopub.status.busy": "2023-10-16T16:14:59.803521Z",
     "iopub.status.idle": "2023-10-16T16:15:00.318284Z",
     "shell.execute_reply": "2023-10-16T16:15:00.317191Z"
    },
    "papermill": {
     "duration": 0.551961,
     "end_time": "2023-10-16T16:15:00.320366",
     "exception": false,
     "start_time": "2023-10-16T16:14:59.768405",
     "status": "completed"
    },
    "tags": []
   },
   "outputs": [
    {
     "data": {
      "image/png": "[encoded data removed]",
      "text/plain": [
       "<Figure size 500x400 with 2 Axes>"
      ]
     },
     "metadata": {},
     "output_type": "display_data"
    }
   ],
   "source": [
    "plt.figure(figsize=(5,4))\n",
    "sea.heatmap(confusion_matrix(ytest,predBernouli),annot=True,fmt='')\n",
    "plt.title(f'accuracy_score : {accuracy_score(ytest,predBernouli)}')\n",
    "plt.show()"
   ]
  },
  {
   "cell_type": "code",
   "execution_count": null,
   "id": "119f7ab0",
   "metadata": {
    "execution": {
     "iopub.execute_input": "2023-10-16T16:15:00.394090Z",
     "iopub.status.busy": "2023-10-16T16:15:00.393449Z",
     "iopub.status.idle": "2023-10-16T16:15:00.401190Z",
     "shell.execute_reply": "2023-10-16T16:15:00.400229Z"
    },
    "papermill": {
     "duration": 0.045357,
     "end_time": "2023-10-16T16:15:00.403030",
     "exception": false,
     "start_time": "2023-10-16T16:15:00.357673",
     "status": "completed"
    },
    "tags": []
   },
   "outputs": [
    {
     "data": {
      "text/plain": [
       "0.9057017543859649"
      ]
     },
     "execution_count": 63,
     "metadata": {},
     "output_type": "execute_result"
    }
   ],
   "source": [
    "f1_score(ytest, predBernouli, average='macro')"
   ]
  },
  {
   "cell_type": "code",
   "execution_count": null,
   "id": "c2cfc8da",
   "metadata": {
    "execution": {
     "iopub.execute_input": "2023-10-16T16:15:00.475258Z",
     "iopub.status.busy": "2023-10-16T16:15:00.474112Z",
     "iopub.status.idle": "2023-10-16T16:15:00.597595Z",
     "shell.execute_reply": "2023-10-16T16:15:00.596388Z"
    },
    "papermill": {
     "duration": 0.162404,
     "end_time": "2023-10-16T16:15:00.599801",
     "exception": false,
     "start_time": "2023-10-16T16:15:00.437397",
     "status": "completed"
    },
    "tags": []
   },
   "outputs": [
    {
     "name": "stdout",
     "output_type": "stream",
     "text": [
      "[0.81578947 0.89473684 0.81578947 0.92105263 0.86486486 0.86486486\n",
      " 0.89189189 0.78378378 0.78378378 0.91891892]\n",
      "Media : 0.855547652916074\n"
     ]
    }
   ],
   "source": [
    "fold = KFold(n_splits=10)\n",
    "print(cross_val_score(bernoulli,X,Y,cv=fold))\n",
    "print('Media :',cross_val_score(bernoulli,X,Y,cv=fold).mean())"
   ]
  }
 ],
 "metadata": {
  "kernelspec": {
   "display_name": "Python 3",
   "language": "python",
   "name": "python3"
  },
  "language_info": {
   "codemirror_mode": {
    "name": "ipython",
    "version": 3
   },
   "file_extension": ".py",
   "mimetype": "text/x-python",
   "name": "python",
   "nbconvert_exporter": "python",
   "pygments_lexer": "ipython3",
   "version": "3.11.2"
  },
  "papermill": {
   "default_parameters": {},
   "duration": 49.873681,
   "end_time": "2023-10-16T16:15:01.556242",
   "environment_variables": {},
   "exception": null,
   "input_path": "__notebook__.ipynb",
   "output_path": "__notebook__.ipynb",
   "parameters": {},
   "start_time": "2023-10-16T16:14:11.682561",
   "version": "2.4.0"
  }
 },
 "nbformat": 4,
 "nbformat_minor": 5
}
